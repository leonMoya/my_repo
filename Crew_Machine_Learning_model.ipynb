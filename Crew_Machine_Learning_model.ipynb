{
 "cells": [
  {
   "cell_type": "markdown",
   "metadata": {},
   "source": [
    "# Crew Recommendation Model\n",
    "\n",
    "The objective of this notebook is build a Machine Learning model to predict the crew size during the design process of a ship"
   ]
  },
  {
   "cell_type": "markdown",
   "metadata": {},
   "source": [
    "## Importing the libraries"
   ]
  },
  {
   "cell_type": "code",
   "execution_count": 574,
   "metadata": {},
   "outputs": [],
   "source": [
    "import pandas as pd\n",
    "import numpy as np \n",
    "import matplotlib.pyplot as plt\n",
    "import seaborn as sns\n",
    "\n",
    "import statsmodels.api as sm\n",
    "import statsmodels.tsa.api as smt\n",
    "from statsmodels.graphics.gofplots import qqplot\n",
    "from statsmodels.stats.outliers_influence import variance_inflation_factor\n",
    "\n",
    "from sklearn import metrics\n",
    "from sklearn.linear_model import LinearRegression\n",
    "from sklearn.preprocessing import MinMaxScaler\n",
    "from sklearn.model_selection import train_test_split, cross_validate, ShuffleSplit\n",
    "from sklearn.model_selection import RandomizedSearchCV, GridSearchCV\n",
    "from sklearn.decomposition import PCA\n",
    "from sklearn.ensemble import RandomForestRegressor\n",
    "\n",
    "\n",
    "from IPython.display import display\n",
    "\n",
    "%matplotlib inline\n",
    "sns.set_style('whitegrid')"
   ]
  },
  {
   "cell_type": "markdown",
   "metadata": {},
   "source": [
    "## Reading the dataset from the CSV file"
   ]
  },
  {
   "cell_type": "code",
   "execution_count": 3,
   "metadata": {},
   "outputs": [],
   "source": [
    "ships = pd.read_csv('Barcos.csv')"
   ]
  },
  {
   "cell_type": "markdown",
   "metadata": {},
   "source": [
    "## Exploratory Data Analysis (EDA)"
   ]
  },
  {
   "cell_type": "markdown",
   "metadata": {},
   "source": [
    "### Structure and overall information of the dataset"
   ]
  },
  {
   "cell_type": "code",
   "execution_count": 4,
   "metadata": {},
   "outputs": [
    {
     "name": "stdout",
     "output_type": "stream",
     "text": [
      "<class 'pandas.core.frame.DataFrame'>\n",
      "RangeIndex: 158 entries, 0 to 157\n",
      "Data columns (total 9 columns):\n",
      " #   Column                    Non-Null Count  Dtype  \n",
      "---  ------                    --------------  -----  \n",
      " 0   Nombre de la Embarcacion  158 non-null    object \n",
      " 1   Naviera                   158 non-null    object \n",
      " 2   Edad                      158 non-null    int64  \n",
      " 3   Tonelaje                  158 non-null    float64\n",
      " 4   Pasajeros                 158 non-null    float64\n",
      " 5   Longitud                  158 non-null    float64\n",
      " 6   Camarotes                 158 non-null    float64\n",
      " 7   Densidad de Pasajeros     158 non-null    float64\n",
      " 8   Tripulacion               158 non-null    float64\n",
      "dtypes: float64(6), int64(1), object(2)\n",
      "memory usage: 11.2+ KB\n"
     ]
    }
   ],
   "source": [
    "ships.info()"
   ]
  },
  {
   "cell_type": "markdown",
   "metadata": {},
   "source": [
    "The dataset has 9 columns and 158 rows with 0 null values. two of the columns are object, one int and the reset of them are float"
   ]
  },
  {
   "cell_type": "code",
   "execution_count": 5,
   "metadata": {},
   "outputs": [
    {
     "data": {
      "text/html": [
       "<div>\n",
       "<style scoped>\n",
       "    .dataframe tbody tr th:only-of-type {\n",
       "        vertical-align: middle;\n",
       "    }\n",
       "\n",
       "    .dataframe tbody tr th {\n",
       "        vertical-align: top;\n",
       "    }\n",
       "\n",
       "    .dataframe thead th {\n",
       "        text-align: right;\n",
       "    }\n",
       "</style>\n",
       "<table border=\"1\" class=\"dataframe\">\n",
       "  <thead>\n",
       "    <tr style=\"text-align: right;\">\n",
       "      <th></th>\n",
       "      <th>Nombre de la Embarcacion</th>\n",
       "      <th>Naviera</th>\n",
       "      <th>Edad</th>\n",
       "      <th>Tonelaje</th>\n",
       "      <th>Pasajeros</th>\n",
       "      <th>Longitud</th>\n",
       "      <th>Camarotes</th>\n",
       "      <th>Densidad de Pasajeros</th>\n",
       "      <th>Tripulacion</th>\n",
       "    </tr>\n",
       "  </thead>\n",
       "  <tbody>\n",
       "    <tr>\n",
       "      <th>0</th>\n",
       "      <td>Journey</td>\n",
       "      <td>Azamara</td>\n",
       "      <td>6</td>\n",
       "      <td>30.277</td>\n",
       "      <td>6.94</td>\n",
       "      <td>5.94</td>\n",
       "      <td>3.55</td>\n",
       "      <td>42.64</td>\n",
       "      <td>3.55</td>\n",
       "    </tr>\n",
       "    <tr>\n",
       "      <th>1</th>\n",
       "      <td>Quest</td>\n",
       "      <td>Azamara</td>\n",
       "      <td>6</td>\n",
       "      <td>30.277</td>\n",
       "      <td>6.94</td>\n",
       "      <td>5.94</td>\n",
       "      <td>3.55</td>\n",
       "      <td>42.64</td>\n",
       "      <td>3.55</td>\n",
       "    </tr>\n",
       "    <tr>\n",
       "      <th>2</th>\n",
       "      <td>Celebration</td>\n",
       "      <td>Carnival</td>\n",
       "      <td>26</td>\n",
       "      <td>47.262</td>\n",
       "      <td>14.86</td>\n",
       "      <td>7.22</td>\n",
       "      <td>7.43</td>\n",
       "      <td>31.80</td>\n",
       "      <td>6.70</td>\n",
       "    </tr>\n",
       "    <tr>\n",
       "      <th>3</th>\n",
       "      <td>Conquest</td>\n",
       "      <td>Carnival</td>\n",
       "      <td>11</td>\n",
       "      <td>110.000</td>\n",
       "      <td>29.74</td>\n",
       "      <td>9.53</td>\n",
       "      <td>14.88</td>\n",
       "      <td>36.99</td>\n",
       "      <td>19.10</td>\n",
       "    </tr>\n",
       "    <tr>\n",
       "      <th>4</th>\n",
       "      <td>Destiny</td>\n",
       "      <td>Carnival</td>\n",
       "      <td>17</td>\n",
       "      <td>101.353</td>\n",
       "      <td>26.42</td>\n",
       "      <td>8.92</td>\n",
       "      <td>13.21</td>\n",
       "      <td>38.36</td>\n",
       "      <td>10.00</td>\n",
       "    </tr>\n",
       "  </tbody>\n",
       "</table>\n",
       "</div>"
      ],
      "text/plain": [
       "  Nombre de la Embarcacion   Naviera  Edad  Tonelaje  Pasajeros  Longitud  \\\n",
       "0                  Journey   Azamara     6    30.277       6.94      5.94   \n",
       "1                    Quest   Azamara     6    30.277       6.94      5.94   \n",
       "2              Celebration  Carnival    26    47.262      14.86      7.22   \n",
       "3                 Conquest  Carnival    11   110.000      29.74      9.53   \n",
       "4                  Destiny  Carnival    17   101.353      26.42      8.92   \n",
       "\n",
       "   Camarotes  Densidad de Pasajeros  Tripulacion  \n",
       "0       3.55                  42.64         3.55  \n",
       "1       3.55                  42.64         3.55  \n",
       "2       7.43                  31.80         6.70  \n",
       "3      14.88                  36.99        19.10  \n",
       "4      13.21                  38.36        10.00  "
      ]
     },
     "execution_count": 5,
     "metadata": {},
     "output_type": "execute_result"
    }
   ],
   "source": [
    "ships.head()"
   ]
  },
  {
   "cell_type": "markdown",
   "metadata": {},
   "source": [
    "From this subset is clear that:\n",
    " - columns \"Nombre de la Embarcacion\" and \"Naviera\" are categorical variables \n",
    " - \"Edad\", \"Tonelaje\", \"Pasajeros\", \"Longitud\", \"Camarotes\" and \"Densidad de Pasajeros\" are numerical variables\n",
    " - \"Tripulacion\" which is the dependant variable  is also numeric"
   ]
  },
  {
   "cell_type": "markdown",
   "metadata": {},
   "source": [
    "### Analyzing categorical variables"
   ]
  },
  {
   "cell_type": "markdown",
   "metadata": {},
   "source": [
    "#### Ship name"
   ]
  },
  {
   "cell_type": "code",
   "execution_count": 6,
   "metadata": {},
   "outputs": [
    {
     "data": {
      "text/html": [
       "<div>\n",
       "<style scoped>\n",
       "    .dataframe tbody tr th:only-of-type {\n",
       "        vertical-align: middle;\n",
       "    }\n",
       "\n",
       "    .dataframe tbody tr th {\n",
       "        vertical-align: top;\n",
       "    }\n",
       "\n",
       "    .dataframe thead th {\n",
       "        text-align: right;\n",
       "    }\n",
       "</style>\n",
       "<table border=\"1\" class=\"dataframe\">\n",
       "  <thead>\n",
       "    <tr style=\"text-align: right;\">\n",
       "      <th></th>\n",
       "      <th>Nombre de la Embarcacion</th>\n",
       "    </tr>\n",
       "  </thead>\n",
       "  <tbody>\n",
       "    <tr>\n",
       "      <th>Spirit</th>\n",
       "      <td>4</td>\n",
       "    </tr>\n",
       "    <tr>\n",
       "      <th>Legend</th>\n",
       "      <td>3</td>\n",
       "    </tr>\n",
       "    <tr>\n",
       "      <th>Star</th>\n",
       "      <td>3</td>\n",
       "    </tr>\n",
       "    <tr>\n",
       "      <th>Majesty</th>\n",
       "      <td>2</td>\n",
       "    </tr>\n",
       "    <tr>\n",
       "      <th>Dawn</th>\n",
       "      <td>2</td>\n",
       "    </tr>\n",
       "    <tr>\n",
       "      <th>...</th>\n",
       "      <td>...</td>\n",
       "    </tr>\n",
       "    <tr>\n",
       "      <th>Aurora</th>\n",
       "      <td>1</td>\n",
       "    </tr>\n",
       "    <tr>\n",
       "      <th>Cloud</th>\n",
       "      <td>1</td>\n",
       "    </tr>\n",
       "    <tr>\n",
       "      <th>Volendam</th>\n",
       "      <td>1</td>\n",
       "    </tr>\n",
       "    <tr>\n",
       "      <th>Valor</th>\n",
       "      <td>1</td>\n",
       "    </tr>\n",
       "    <tr>\n",
       "      <th>Splendour</th>\n",
       "      <td>1</td>\n",
       "    </tr>\n",
       "  </tbody>\n",
       "</table>\n",
       "<p>138 rows × 1 columns</p>\n",
       "</div>"
      ],
      "text/plain": [
       "           Nombre de la Embarcacion\n",
       "Spirit                            4\n",
       "Legend                            3\n",
       "Star                              3\n",
       "Majesty                           2\n",
       "Dawn                              2\n",
       "...                             ...\n",
       "Aurora                            1\n",
       "Cloud                             1\n",
       "Volendam                          1\n",
       "Valor                             1\n",
       "Splendour                         1\n",
       "\n",
       "[138 rows x 1 columns]"
      ]
     },
     "metadata": {},
     "output_type": "display_data"
    },
    {
     "data": {
      "text/html": [
       "<div>\n",
       "<style scoped>\n",
       "    .dataframe tbody tr th:only-of-type {\n",
       "        vertical-align: middle;\n",
       "    }\n",
       "\n",
       "    .dataframe tbody tr th {\n",
       "        vertical-align: top;\n",
       "    }\n",
       "\n",
       "    .dataframe thead th {\n",
       "        text-align: right;\n",
       "    }\n",
       "</style>\n",
       "<table border=\"1\" class=\"dataframe\">\n",
       "  <thead>\n",
       "    <tr style=\"text-align: right;\">\n",
       "      <th></th>\n",
       "      <th>Ships With Same Name</th>\n",
       "      <th>Counts</th>\n",
       "    </tr>\n",
       "  </thead>\n",
       "  <tbody>\n",
       "    <tr>\n",
       "      <th>0</th>\n",
       "      <td>4</td>\n",
       "      <td>1</td>\n",
       "    </tr>\n",
       "    <tr>\n",
       "      <th>1</th>\n",
       "      <td>3</td>\n",
       "      <td>2</td>\n",
       "    </tr>\n",
       "    <tr>\n",
       "      <th>2</th>\n",
       "      <td>2</td>\n",
       "      <td>13</td>\n",
       "    </tr>\n",
       "    <tr>\n",
       "      <th>3</th>\n",
       "      <td>1</td>\n",
       "      <td>122</td>\n",
       "    </tr>\n",
       "  </tbody>\n",
       "</table>\n",
       "</div>"
      ],
      "text/plain": [
       "   Ships With Same Name  Counts\n",
       "0                     4       1\n",
       "1                     3       2\n",
       "2                     2      13\n",
       "3                     1     122"
      ]
     },
     "execution_count": 6,
     "metadata": {},
     "output_type": "execute_result"
    }
   ],
   "source": [
    "ship_name_counts = ships['Nombre de la Embarcacion'].value_counts()\n",
    "display(ship_name_counts.to_frame())\n",
    "(\n",
    "    ship_name_counts\n",
    "    .value_counts()\n",
    "    .sort_values(ascending=True)\n",
    "    .rename_axis('Ships With Same Name')\n",
    "    .reset_index(name='Counts')\n",
    ")"
   ]
  },
  {
   "cell_type": "markdown",
   "metadata": {},
   "source": [
    "There are 138 unique names, this means that some names can be repeated but not in a rate that can represent an estimator"
   ]
  },
  {
   "cell_type": "code",
   "execution_count": 7,
   "metadata": {},
   "outputs": [
    {
     "data": {
      "text/html": [
       "<div>\n",
       "<style scoped>\n",
       "    .dataframe tbody tr th:only-of-type {\n",
       "        vertical-align: middle;\n",
       "    }\n",
       "\n",
       "    .dataframe tbody tr th {\n",
       "        vertical-align: top;\n",
       "    }\n",
       "\n",
       "    .dataframe thead th {\n",
       "        text-align: right;\n",
       "    }\n",
       "</style>\n",
       "<table border=\"1\" class=\"dataframe\">\n",
       "  <thead>\n",
       "    <tr style=\"text-align: right;\">\n",
       "      <th></th>\n",
       "      <th>Nombre de la Embarcacion</th>\n",
       "      <th>Naviera</th>\n",
       "      <th>Edad</th>\n",
       "      <th>Tonelaje</th>\n",
       "      <th>Pasajeros</th>\n",
       "      <th>Longitud</th>\n",
       "      <th>Camarotes</th>\n",
       "      <th>Densidad de Pasajeros</th>\n",
       "      <th>Tripulacion</th>\n",
       "    </tr>\n",
       "  </thead>\n",
       "  <tbody>\n",
       "    <tr>\n",
       "      <th>20</th>\n",
       "      <td>Spirit</td>\n",
       "      <td>Carnival</td>\n",
       "      <td>12</td>\n",
       "      <td>88.500</td>\n",
       "      <td>21.24</td>\n",
       "      <td>9.63</td>\n",
       "      <td>10.56</td>\n",
       "      <td>41.67</td>\n",
       "      <td>10.29</td>\n",
       "    </tr>\n",
       "    <tr>\n",
       "      <th>83</th>\n",
       "      <td>Spirit</td>\n",
       "      <td>Norwegian</td>\n",
       "      <td>15</td>\n",
       "      <td>75.338</td>\n",
       "      <td>19.56</td>\n",
       "      <td>8.79</td>\n",
       "      <td>9.83</td>\n",
       "      <td>38.52</td>\n",
       "      <td>13.00</td>\n",
       "    </tr>\n",
       "    <tr>\n",
       "      <th>144</th>\n",
       "      <td>Spirit</td>\n",
       "      <td>Seabourn</td>\n",
       "      <td>24</td>\n",
       "      <td>10.000</td>\n",
       "      <td>2.08</td>\n",
       "      <td>4.40</td>\n",
       "      <td>1.04</td>\n",
       "      <td>48.08</td>\n",
       "      <td>1.60</td>\n",
       "    </tr>\n",
       "    <tr>\n",
       "      <th>155</th>\n",
       "      <td>Spirit</td>\n",
       "      <td>Windstar</td>\n",
       "      <td>25</td>\n",
       "      <td>5.350</td>\n",
       "      <td>1.58</td>\n",
       "      <td>4.40</td>\n",
       "      <td>0.74</td>\n",
       "      <td>33.86</td>\n",
       "      <td>0.88</td>\n",
       "    </tr>\n",
       "  </tbody>\n",
       "</table>\n",
       "</div>"
      ],
      "text/plain": [
       "    Nombre de la Embarcacion    Naviera  Edad  Tonelaje  Pasajeros  Longitud  \\\n",
       "20                    Spirit   Carnival    12    88.500      21.24      9.63   \n",
       "83                    Spirit  Norwegian    15    75.338      19.56      8.79   \n",
       "144                   Spirit   Seabourn    24    10.000       2.08      4.40   \n",
       "155                   Spirit   Windstar    25     5.350       1.58      4.40   \n",
       "\n",
       "     Camarotes  Densidad de Pasajeros  Tripulacion  \n",
       "20       10.56                  41.67        10.29  \n",
       "83        9.83                  38.52        13.00  \n",
       "144       1.04                  48.08         1.60  \n",
       "155       0.74                  33.86         0.88  "
      ]
     },
     "execution_count": 7,
     "metadata": {},
     "output_type": "execute_result"
    }
   ],
   "source": [
    "ships[ships['Nombre de la Embarcacion'] == 'Spirit']"
   ]
  },
  {
   "cell_type": "markdown",
   "metadata": {},
   "source": [
    "for example the most popular name is \"Spirit\" but the caracteristics of the ships are totally different"
   ]
  },
  {
   "cell_type": "markdown",
   "metadata": {},
   "source": [
    "#### Company"
   ]
  },
  {
   "cell_type": "code",
   "execution_count": 8,
   "metadata": {},
   "outputs": [
    {
     "data": {
      "image/png": "[encoded data removed]",
      "text/plain": [
       "<Figure size 1080x360 with 1 Axes>"
      ]
     },
     "metadata": {},
     "output_type": "display_data"
    }
   ],
   "source": [
    "naviera_counts = ships['Naviera'].value_counts()\n",
    "\n",
    "plt.figure(figsize=(15, 5))\n",
    "graph = sns.countplot(x='Naviera', data=ships, order=naviera_counts.index)\n",
    "graph.xaxis.set_tick_params(rotation=90, labelsize=15)\n",
    "graph.xaxis.get_label().set_fontsize(20)\n",
    "graph.yaxis.get_label().set_fontsize(20)\n",
    "for p in graph.patches:\n",
    "    graph.annotate(\n",
    "        format(p.get_height(), '.0f'),\n",
    "        (p.get_x() + p.get_width() / 2., p.get_height()),\n",
    "        ha = 'center',\n",
    "        va = 'center',\n",
    "        xytext = (0, 10),\n",
    "        textcoords = 'offset points',\n",
    "        size=15\n",
    "    )"
   ]
  },
  {
   "cell_type": "markdown",
   "metadata": {},
   "source": [
    "From this instance is observed that there are 20 different companies, the biggest is Royal_Caribbean with 23 ships and the smallest is Orient with 1"
   ]
  },
  {
   "cell_type": "code",
   "execution_count": 9,
   "metadata": {},
   "outputs": [
    {
     "data": {
      "image/png": "[encoded data removed]",
      "text/plain": [
       "<Figure size 1080x360 with 1 Axes>"
      ]
     },
     "metadata": {},
     "output_type": "display_data"
    }
   ],
   "source": [
    "plt.figure(figsize=(15, 5))\n",
    "graph = sns.boxplot(\n",
    "    x='Naviera',\n",
    "    y='Tripulacion',\n",
    "    data=ships,\n",
    "    order=naviera_counts.index)\n",
    "graph.xaxis.set_tick_params(rotation=90, labelsize=15)\n",
    "graph.xaxis.get_label().set_fontsize(20)\n",
    "graph.yaxis.get_label().set_fontsize(20)\n"
   ]
  },
  {
   "cell_type": "markdown",
   "metadata": {},
   "source": [
    "From the box plot is difficult to see a clear relationship between the company and the crew number, eventhough in some cases like Holland_American seems to have the crew of their ships in the same range. Nevertheless, there are companies with very few ships so including this variable could lead us to overfit our model and besides the model would perform poorly to predict data for a non included company "
   ]
  },
  {
   "cell_type": "markdown",
   "metadata": {},
   "source": [
    "### Analizing numerical variables"
   ]
  },
  {
   "cell_type": "code",
   "execution_count": 10,
   "metadata": {},
   "outputs": [
    {
     "data": {
      "text/html": [
       "<div>\n",
       "<style scoped>\n",
       "    .dataframe tbody tr th:only-of-type {\n",
       "        vertical-align: middle;\n",
       "    }\n",
       "\n",
       "    .dataframe tbody tr th {\n",
       "        vertical-align: top;\n",
       "    }\n",
       "\n",
       "    .dataframe thead th {\n",
       "        text-align: right;\n",
       "    }\n",
       "</style>\n",
       "<table border=\"1\" class=\"dataframe\">\n",
       "  <thead>\n",
       "    <tr style=\"text-align: right;\">\n",
       "      <th></th>\n",
       "      <th>Edad</th>\n",
       "      <th>Tonelaje</th>\n",
       "      <th>Pasajeros</th>\n",
       "      <th>Longitud</th>\n",
       "      <th>Camarotes</th>\n",
       "      <th>Densidad de Pasajeros</th>\n",
       "      <th>Tripulacion</th>\n",
       "    </tr>\n",
       "  </thead>\n",
       "  <tbody>\n",
       "    <tr>\n",
       "      <th>count</th>\n",
       "      <td>158.000000</td>\n",
       "      <td>158.000000</td>\n",
       "      <td>158.000000</td>\n",
       "      <td>158.000000</td>\n",
       "      <td>158.000000</td>\n",
       "      <td>158.000000</td>\n",
       "      <td>158.000000</td>\n",
       "    </tr>\n",
       "    <tr>\n",
       "      <th>mean</th>\n",
       "      <td>15.689873</td>\n",
       "      <td>71.284671</td>\n",
       "      <td>18.457405</td>\n",
       "      <td>8.130633</td>\n",
       "      <td>8.830000</td>\n",
       "      <td>39.900949</td>\n",
       "      <td>7.794177</td>\n",
       "    </tr>\n",
       "    <tr>\n",
       "      <th>std</th>\n",
       "      <td>7.615691</td>\n",
       "      <td>37.229540</td>\n",
       "      <td>9.677095</td>\n",
       "      <td>1.793474</td>\n",
       "      <td>4.471417</td>\n",
       "      <td>8.639217</td>\n",
       "      <td>3.503487</td>\n",
       "    </tr>\n",
       "    <tr>\n",
       "      <th>min</th>\n",
       "      <td>4.000000</td>\n",
       "      <td>2.329000</td>\n",
       "      <td>0.660000</td>\n",
       "      <td>2.790000</td>\n",
       "      <td>0.330000</td>\n",
       "      <td>17.700000</td>\n",
       "      <td>0.590000</td>\n",
       "    </tr>\n",
       "    <tr>\n",
       "      <th>25%</th>\n",
       "      <td>10.000000</td>\n",
       "      <td>46.013000</td>\n",
       "      <td>12.535000</td>\n",
       "      <td>7.100000</td>\n",
       "      <td>6.132500</td>\n",
       "      <td>34.570000</td>\n",
       "      <td>5.480000</td>\n",
       "    </tr>\n",
       "    <tr>\n",
       "      <th>50%</th>\n",
       "      <td>14.000000</td>\n",
       "      <td>71.899000</td>\n",
       "      <td>19.500000</td>\n",
       "      <td>8.555000</td>\n",
       "      <td>9.570000</td>\n",
       "      <td>39.085000</td>\n",
       "      <td>8.150000</td>\n",
       "    </tr>\n",
       "    <tr>\n",
       "      <th>75%</th>\n",
       "      <td>20.000000</td>\n",
       "      <td>90.772500</td>\n",
       "      <td>24.845000</td>\n",
       "      <td>9.510000</td>\n",
       "      <td>10.885000</td>\n",
       "      <td>44.185000</td>\n",
       "      <td>9.990000</td>\n",
       "    </tr>\n",
       "    <tr>\n",
       "      <th>max</th>\n",
       "      <td>48.000000</td>\n",
       "      <td>220.000000</td>\n",
       "      <td>54.000000</td>\n",
       "      <td>11.820000</td>\n",
       "      <td>27.000000</td>\n",
       "      <td>71.430000</td>\n",
       "      <td>21.000000</td>\n",
       "    </tr>\n",
       "  </tbody>\n",
       "</table>\n",
       "</div>"
      ],
      "text/plain": [
       "             Edad    Tonelaje   Pasajeros    Longitud   Camarotes  \\\n",
       "count  158.000000  158.000000  158.000000  158.000000  158.000000   \n",
       "mean    15.689873   71.284671   18.457405    8.130633    8.830000   \n",
       "std      7.615691   37.229540    9.677095    1.793474    4.471417   \n",
       "min      4.000000    2.329000    0.660000    2.790000    0.330000   \n",
       "25%     10.000000   46.013000   12.535000    7.100000    6.132500   \n",
       "50%     14.000000   71.899000   19.500000    8.555000    9.570000   \n",
       "75%     20.000000   90.772500   24.845000    9.510000   10.885000   \n",
       "max     48.000000  220.000000   54.000000   11.820000   27.000000   \n",
       "\n",
       "       Densidad de Pasajeros  Tripulacion  \n",
       "count             158.000000   158.000000  \n",
       "mean               39.900949     7.794177  \n",
       "std                 8.639217     3.503487  \n",
       "min                17.700000     0.590000  \n",
       "25%                34.570000     5.480000  \n",
       "50%                39.085000     8.150000  \n",
       "75%                44.185000     9.990000  \n",
       "max                71.430000    21.000000  "
      ]
     },
     "execution_count": 10,
     "metadata": {},
     "output_type": "execute_result"
    }
   ],
   "source": [
    "ships.describe()"
   ]
  },
  {
   "cell_type": "markdown",
   "metadata": {},
   "source": [
    "There are two important observations from this table\n",
    " - First, the data has different scale of values, for example, the maximum value of Tonnage is 220 while the max value of Longitud is 11.82.\n",
    " - Second, crew has a mean of 7.79 with a std of 3.5 and a value in 75 percentile of 9.9. However, its max value is 21 which can lead to think in outliers"
   ]
  },
  {
   "cell_type": "code",
   "execution_count": 11,
   "metadata": {
    "scrolled": false
   },
   "outputs": [
    {
     "data": {
      "image/png": "[encoded data removed]",
      "text/plain": [
       "<Figure size 756x756 with 56 Axes>"
      ]
     },
     "metadata": {},
     "output_type": "display_data"
    }
   ],
   "source": [
    "sns.set(rc={'axes.labelsize':'11'})\n",
    "graph = sns.pairplot(ships, height=1.5)"
   ]
  },
  {
   "cell_type": "markdown",
   "metadata": {},
   "source": [
    "These sort of graphs reveal a lot of information.\n",
    " - variables age and passanger density seem to be bad predictors for crew. In the other hand, tonnage, passangers, lenght and cabins have significant correlation .\n",
    " - two observations have unusual crew values\n",
    " - the relationship between the variables tonnage, passangers, lenght and cabins show a possible multicollinearity"
   ]
  },
  {
   "cell_type": "code",
   "execution_count": 12,
   "metadata": {},
   "outputs": [
    {
     "data": {
      "image/png": "[encoded data removed]",
      "text/plain": [
       "<Figure size 1080x360 with 1 Axes>"
      ]
     },
     "metadata": {},
     "output_type": "display_data"
    }
   ],
   "source": [
    "plt.figure(figsize=(15, 5))\n",
    "sns.boxplot(ships['Tripulacion'])\n",
    "plt.show()"
   ]
  },
  {
   "cell_type": "markdown",
   "metadata": {},
   "source": [
    "Given that two observations have unusually high crew values they are considered as outliers and therefor remmoved from the dataset "
   ]
  },
  {
   "cell_type": "code",
   "execution_count": 13,
   "metadata": {},
   "outputs": [],
   "source": [
    "ships_cleaned = ships[ships['Tripulacion'] < 18]"
   ]
  },
  {
   "cell_type": "code",
   "execution_count": 14,
   "metadata": {},
   "outputs": [],
   "source": [
    "#ships_cleaned['Longitud2'] = np.sqrt(np.max(ships_cleaned['Longitud'] + 1) - ships_cleaned['Longitud'])"
   ]
  },
  {
   "cell_type": "code",
   "execution_count": 15,
   "metadata": {},
   "outputs": [],
   "source": [
    "# fig, ax = plt.subplots(1,3, figsize=(15,5))\n",
    "# sns.distplot(ships_cleaned['Longitud'], ax=ax[0])\n",
    "# sns.distplot(ships_cleaned['Longitud2'], ax=ax[1])"
   ]
  },
  {
   "cell_type": "markdown",
   "metadata": {},
   "source": [
    "## Setting a baseline"
   ]
  },
  {
   "cell_type": "code",
   "execution_count": 32,
   "metadata": {},
   "outputs": [
    {
     "name": "stdout",
     "output_type": "stream",
     "text": [
      "The crew mean is:  7.637051282051282\n"
     ]
    }
   ],
   "source": [
    "mean_crew_value = ships_cleaned['Tripulacion'].mean()\n",
    "print('The crew mean is: ', mean_crew_value)"
   ]
  },
  {
   "cell_type": "markdown",
   "metadata": {},
   "source": [
    "In order to have a comparison to know if a model is good or not a baseline is set using the mean of the crew values. This value will be used as predicted value for each one of the observations and therefor as reference against the predictions of the model."
   ]
  },
  {
   "cell_type": "markdown",
   "metadata": {},
   "source": [
    "## Variable selection"
   ]
  },
  {
   "cell_type": "code",
   "execution_count": 18,
   "metadata": {},
   "outputs": [
    {
     "data": {
      "image/png": "[encoded data removed]",
      "text/plain": [
       "<Figure size 1080x360 with 2 Axes>"
      ]
     },
     "metadata": {},
     "output_type": "display_data"
    }
   ],
   "source": [
    "plt.figure(figsize=(15, 5))\n",
    "graph = sns.heatmap(\n",
    "    ships_cleaned.corr(),\n",
    "    annot=True,\n",
    "    cmap='RdBu_r',\n",
    "    vmin=-1,\n",
    "    vmax=1,\n",
    "    annot_kws={'size': 20}\n",
    ")"
   ]
  },
  {
   "cell_type": "markdown",
   "metadata": {},
   "source": [
    "The correlation graph shows that cabins is the most high correlated variable with **crew** but **tonnage**, **passangers**, **lenght** are good predictors too.\n",
    "\n",
    "Another point to keep in mind is that these variables are correlated amonng them too"
   ]
  },
  {
   "cell_type": "markdown",
   "metadata": {},
   "source": [
    "## Multiple Linear regression model"
   ]
  },
  {
   "cell_type": "markdown",
   "metadata": {},
   "source": [
    "### Dividing the dataset into training and test"
   ]
  },
  {
   "cell_type": "code",
   "execution_count": 668,
   "metadata": {},
   "outputs": [],
   "source": [
    "def scale_and_split_data(\n",
    "        df, sel_cols, target_var='Tripulacion', \n",
    "        test_size=0.4, random_state=101, scale_flag: bool=True):\n",
    "    '''Scale the data using standard scaler\n",
    "        \n",
    "    Args: \n",
    "        df: data frame with the information\n",
    "        sel_cols: List of selected independant variables\n",
    "        test_size: Float of the desired test size proportion in percentage\n",
    "        random_state: int to keep seed\n",
    "            \n",
    "    Returns:\n",
    "        scaler: Scaler object fitted with the selected independant variables\n",
    "        X_train: Data frame with the subset of features to train\n",
    "        X_test: Data frame with the subset of features to test\n",
    "        y_train: Series with the subset of the target variable to train\n",
    "        y_test: Series with the subset of the target variable to test\n",
    "        \n",
    "    '''\n",
    "    y = df[target_var]\n",
    "    if scale_flag:\n",
    "        scaler = MinMaxScaler()\n",
    "        X = pd.DataFrame(scaler.fit_transform(df[sel_cols]), columns=sel_cols)\n",
    "    else:\n",
    "        scaler = None\n",
    "        X = df[sel_cols]\n",
    "    X_train, X_test, y_train, y_test = train_test_split(\n",
    "        X, y, test_size=test_size , random_state=random_state)\n",
    "    X_train.reset_index(drop=True, inplace=True)\n",
    "    X_test.reset_index(drop=True, inplace=True)\n",
    "    y_train.reset_index(drop=True, inplace=True)\n",
    "    y_test.reset_index(drop=True, inplace=True)\n",
    "    return scaler, X, y, X_train, X_test, y_train, y_test"
   ]
  },
  {
   "cell_type": "code",
   "execution_count": 669,
   "metadata": {},
   "outputs": [
    {
     "data": {
      "text/html": [
       "<div>\n",
       "<style scoped>\n",
       "    .dataframe tbody tr th:only-of-type {\n",
       "        vertical-align: middle;\n",
       "    }\n",
       "\n",
       "    .dataframe tbody tr th {\n",
       "        vertical-align: top;\n",
       "    }\n",
       "\n",
       "    .dataframe thead th {\n",
       "        text-align: right;\n",
       "    }\n",
       "</style>\n",
       "<table border=\"1\" class=\"dataframe\">\n",
       "  <thead>\n",
       "    <tr style=\"text-align: right;\">\n",
       "      <th></th>\n",
       "      <th>Tonelaje</th>\n",
       "      <th>Pasajeros</th>\n",
       "      <th>Longitud</th>\n",
       "      <th>Camarotes</th>\n",
       "    </tr>\n",
       "  </thead>\n",
       "  <tbody>\n",
       "    <tr>\n",
       "      <th>count</th>\n",
       "      <td>156.000000</td>\n",
       "      <td>156.000000</td>\n",
       "      <td>156.000000</td>\n",
       "      <td>156.000000</td>\n",
       "    </tr>\n",
       "    <tr>\n",
       "      <th>mean</th>\n",
       "      <td>0.429719</td>\n",
       "      <td>0.406534</td>\n",
       "      <td>0.622276</td>\n",
       "      <td>0.467755</td>\n",
       "    </tr>\n",
       "    <tr>\n",
       "      <th>std</th>\n",
       "      <td>0.224245</td>\n",
       "      <td>0.215205</td>\n",
       "      <td>0.208284</td>\n",
       "      <td>0.236897</td>\n",
       "    </tr>\n",
       "    <tr>\n",
       "      <th>min</th>\n",
       "      <td>0.000000</td>\n",
       "      <td>0.000000</td>\n",
       "      <td>0.000000</td>\n",
       "      <td>0.000000</td>\n",
       "    </tr>\n",
       "    <tr>\n",
       "      <th>25%</th>\n",
       "      <td>0.275390</td>\n",
       "      <td>0.273002</td>\n",
       "      <td>0.503810</td>\n",
       "      <td>0.320768</td>\n",
       "    </tr>\n",
       "    <tr>\n",
       "      <th>50%</th>\n",
       "      <td>0.432277</td>\n",
       "      <td>0.437732</td>\n",
       "      <td>0.675264</td>\n",
       "      <td>0.510930</td>\n",
       "    </tr>\n",
       "    <tr>\n",
       "      <th>75%</th>\n",
       "      <td>0.556608</td>\n",
       "      <td>0.550418</td>\n",
       "      <td>0.787808</td>\n",
       "      <td>0.578195</td>\n",
       "    </tr>\n",
       "    <tr>\n",
       "      <th>max</th>\n",
       "      <td>1.000000</td>\n",
       "      <td>1.000000</td>\n",
       "      <td>1.000000</td>\n",
       "      <td>1.000000</td>\n",
       "    </tr>\n",
       "  </tbody>\n",
       "</table>\n",
       "</div>"
      ],
      "text/plain": [
       "         Tonelaje   Pasajeros    Longitud   Camarotes\n",
       "count  156.000000  156.000000  156.000000  156.000000\n",
       "mean     0.429719    0.406534    0.622276    0.467755\n",
       "std      0.224245    0.215205    0.208284    0.236897\n",
       "min      0.000000    0.000000    0.000000    0.000000\n",
       "25%      0.275390    0.273002    0.503810    0.320768\n",
       "50%      0.432277    0.437732    0.675264    0.510930\n",
       "75%      0.556608    0.550418    0.787808    0.578195\n",
       "max      1.000000    1.000000    1.000000    1.000000"
      ]
     },
     "metadata": {},
     "output_type": "display_data"
    },
    {
     "name": "stdout",
     "output_type": "stream",
     "text": [
      "Train_size:  93  Test_size: 63\n"
     ]
    }
   ],
   "source": [
    "sel_cols = [\n",
    "    'Tonelaje',\n",
    "    'Pasajeros',\n",
    "    'Longitud',\n",
    "    'Camarotes',\n",
    "]\n",
    "scaler, X, y, X_train, X_test, y_train, y_test = scale_and_split_data(\n",
    "    ships_cleaned, sel_cols)\n",
    "display(X.describe())\n",
    "print('Train_size: ', X_train.shape[0], ' Test_size:', X_test.shape[0])"
   ]
  },
  {
   "cell_type": "markdown",
   "metadata": {},
   "source": [
    "The train set has 93 observations and the test set has 63. In addition, all the variables are now in a range between 0 and 1. "
   ]
  },
  {
   "cell_type": "markdown",
   "metadata": {},
   "source": [
    "### Fit and summary of the model"
   ]
  },
  {
   "cell_type": "code",
   "execution_count": 670,
   "metadata": {},
   "outputs": [
    {
     "data": {
      "text/html": [
       "<table class=\"simpletable\">\n",
       "<caption>OLS Regression Results</caption>\n",
       "<tr>\n",
       "  <th>Dep. Variable:</th>       <td>Tripulacion</td>   <th>  R-squared:         </th> <td>   0.954</td>\n",
       "</tr>\n",
       "<tr>\n",
       "  <th>Model:</th>                   <td>OLS</td>       <th>  Adj. R-squared:    </th> <td>   0.952</td>\n",
       "</tr>\n",
       "<tr>\n",
       "  <th>Method:</th>             <td>Least Squares</td>  <th>  F-statistic:       </th> <td>   453.3</td>\n",
       "</tr>\n",
       "<tr>\n",
       "  <th>Date:</th>             <td>Wed, 24 Jun 2020</td> <th>  Prob (F-statistic):</th> <td>8.18e-58</td>\n",
       "</tr>\n",
       "<tr>\n",
       "  <th>Time:</th>                 <td>14:51:22</td>     <th>  Log-Likelihood:    </th> <td> -95.769</td>\n",
       "</tr>\n",
       "<tr>\n",
       "  <th>No. Observations:</th>      <td>    93</td>      <th>  AIC:               </th> <td>   201.5</td>\n",
       "</tr>\n",
       "<tr>\n",
       "  <th>Df Residuals:</th>          <td>    88</td>      <th>  BIC:               </th> <td>   214.2</td>\n",
       "</tr>\n",
       "<tr>\n",
       "  <th>Df Model:</th>              <td>     4</td>      <th>                     </th>     <td> </td>   \n",
       "</tr>\n",
       "<tr>\n",
       "  <th>Covariance Type:</th>      <td>nonrobust</td>    <th>                     </th>     <td> </td>   \n",
       "</tr>\n",
       "</table>\n",
       "<table class=\"simpletable\">\n",
       "<tr>\n",
       "      <td></td>         <th>coef</th>     <th>std err</th>      <th>t</th>      <th>P>|t|</th>  <th>[0.025</th>    <th>0.975]</th>  \n",
       "</tr>\n",
       "<tr>\n",
       "  <th>const</th>     <td>    0.5507</td> <td>    0.273</td> <td>    2.016</td> <td> 0.047</td> <td>    0.008</td> <td>    1.094</td>\n",
       "</tr>\n",
       "<tr>\n",
       "  <th>Tonelaje</th>  <td>    3.1413</td> <td>    1.167</td> <td>    2.692</td> <td> 0.009</td> <td>    0.822</td> <td>    5.461</td>\n",
       "</tr>\n",
       "<tr>\n",
       "  <th>Pasajeros</th> <td>   -4.9169</td> <td>    1.964</td> <td>   -2.504</td> <td> 0.014</td> <td>   -8.819</td> <td>   -1.015</td>\n",
       "</tr>\n",
       "<tr>\n",
       "  <th>Longitud</th>  <td>    3.7347</td> <td>    0.955</td> <td>    3.910</td> <td> 0.000</td> <td>    1.836</td> <td>    5.633</td>\n",
       "</tr>\n",
       "<tr>\n",
       "  <th>Camarotes</th> <td>   11.4659</td> <td>    1.876</td> <td>    6.113</td> <td> 0.000</td> <td>    7.738</td> <td>   15.194</td>\n",
       "</tr>\n",
       "</table>\n",
       "<table class=\"simpletable\">\n",
       "<tr>\n",
       "  <th>Omnibus:</th>       <td> 1.910</td> <th>  Durbin-Watson:     </th> <td>   2.025</td>\n",
       "</tr>\n",
       "<tr>\n",
       "  <th>Prob(Omnibus):</th> <td> 0.385</td> <th>  Jarque-Bera (JB):  </th> <td>   1.449</td>\n",
       "</tr>\n",
       "<tr>\n",
       "  <th>Skew:</th>          <td>-0.095</td> <th>  Prob(JB):          </th> <td>   0.485</td>\n",
       "</tr>\n",
       "<tr>\n",
       "  <th>Kurtosis:</th>      <td> 2.419</td> <th>  Cond. No.          </th> <td>    50.8</td>\n",
       "</tr>\n",
       "</table><br/><br/>Warnings:<br/>[1] Standard Errors assume that the covariance matrix of the errors is correctly specified."
      ],
      "text/plain": [
       "<class 'statsmodels.iolib.summary.Summary'>\n",
       "\"\"\"\n",
       "                            OLS Regression Results                            \n",
       "==============================================================================\n",
       "Dep. Variable:            Tripulacion   R-squared:                       0.954\n",
       "Model:                            OLS   Adj. R-squared:                  0.952\n",
       "Method:                 Least Squares   F-statistic:                     453.3\n",
       "Date:                Wed, 24 Jun 2020   Prob (F-statistic):           8.18e-58\n",
       "Time:                        14:51:22   Log-Likelihood:                -95.769\n",
       "No. Observations:                  93   AIC:                             201.5\n",
       "Df Residuals:                      88   BIC:                             214.2\n",
       "Df Model:                           4                                         \n",
       "Covariance Type:            nonrobust                                         \n",
       "==============================================================================\n",
       "                 coef    std err          t      P>|t|      [0.025      0.975]\n",
       "------------------------------------------------------------------------------\n",
       "const          0.5507      0.273      2.016      0.047       0.008       1.094\n",
       "Tonelaje       3.1413      1.167      2.692      0.009       0.822       5.461\n",
       "Pasajeros     -4.9169      1.964     -2.504      0.014      -8.819      -1.015\n",
       "Longitud       3.7347      0.955      3.910      0.000       1.836       5.633\n",
       "Camarotes     11.4659      1.876      6.113      0.000       7.738      15.194\n",
       "==============================================================================\n",
       "Omnibus:                        1.910   Durbin-Watson:                   2.025\n",
       "Prob(Omnibus):                  0.385   Jarque-Bera (JB):                1.449\n",
       "Skew:                          -0.095   Prob(JB):                        0.485\n",
       "Kurtosis:                       2.419   Cond. No.                         50.8\n",
       "==============================================================================\n",
       "\n",
       "Warnings:\n",
       "[1] Standard Errors assume that the covariance matrix of the errors is correctly specified.\n",
       "\"\"\""
      ]
     },
     "execution_count": 670,
     "metadata": {},
     "output_type": "execute_result"
    }
   ],
   "source": [
    "regr = sm.OLS(y_train, sm.add_constant(X_train)).fit()\n",
    "regr.summary()"
   ]
  },
  {
   "cell_type": "markdown",
   "metadata": {},
   "source": [
    "From the model summary is important to focus on the following points:\n",
    "- The model has a $R^2$ of 0.954 which is good and the $adjR^2$ of 0.952 is very similar\n",
    "- All the variables are significant for the model given that all of them have a p_value below 0.05\n",
    "- The most significant coefficient is cabins"
   ]
  },
  {
   "cell_type": "markdown",
   "metadata": {},
   "source": [
    "### Testing of assumptions"
   ]
  },
  {
   "cell_type": "code",
   "execution_count": 671,
   "metadata": {},
   "outputs": [],
   "source": [
    "y_train_pred = regr.predict(sm.add_constant(X_train))\n",
    "y_test_pred = regr.predict(sm.add_constant(X_test))"
   ]
  },
  {
   "cell_type": "markdown",
   "metadata": {},
   "source": [
    "#### Linearity of the model"
   ]
  },
  {
   "cell_type": "code",
   "execution_count": 672,
   "metadata": {},
   "outputs": [
    {
     "data": {
      "image/png": "[encoded data removed]",
      "text/plain": [
       "<Figure size 1080x360 with 2 Axes>"
      ]
     },
     "metadata": {},
     "output_type": "display_data"
    }
   ],
   "source": [
    "fig, ax = plt.subplots(1,2, figsize=(15, 5))\n",
    "\n",
    "sns.regplot(x=y_train_pred, y=y_train, ax=ax[0])\n",
    "ax[0].set_title('Observed vs. predicted values')\n",
    "ax[0].set(xlabel='Predicted', ylabel='Observed')\n",
    "\n",
    "sns.regplot(x=y_train_pred, y=regr.resid, ax=ax[1])\n",
    "ax[1].set_title('Residuals vs. predicted values')\n",
    "ax[1].set(xlabel='Predicted', ylabel='Residuals')\n",
    "\n",
    "plt.show()"
   ]
  },
  {
   "cell_type": "markdown",
   "metadata": {},
   "source": [
    "The outcomes of the Observed vs. predicted values are symmetrically distributed around the diagonal and is the same for the Residuals vs. Predicted values against the horizontal line. In addition, both graphs shows a constant variance.\n",
    "This means that there is indeed a linear relationship among variables."
   ]
  },
  {
   "cell_type": "markdown",
   "metadata": {},
   "source": [
    "#### Mean of residuals equal to zero"
   ]
  },
  {
   "cell_type": "code",
   "execution_count": 673,
   "metadata": {},
   "outputs": [
    {
     "data": {
      "text/plain": [
       "2.2443218132207465e-15"
      ]
     },
     "execution_count": 673,
     "metadata": {},
     "output_type": "execute_result"
    }
   ],
   "source": [
    "regr.resid.mean()"
   ]
  },
  {
   "cell_type": "markdown",
   "metadata": {},
   "source": [
    "The mean of the residuals is indeed very close to zero meaning that a linear regression is a good fit."
   ]
  },
  {
   "cell_type": "markdown",
   "metadata": {},
   "source": [
    "#### Multivariate normal"
   ]
  },
  {
   "cell_type": "code",
   "execution_count": 674,
   "metadata": {},
   "outputs": [
    {
     "data": {
      "image/png": "[encoded data removed]",
      "text/plain": [
       "<Figure size 1080x360 with 1 Axes>"
      ]
     },
     "metadata": {},
     "output_type": "display_data"
    },
    {
     "data": {
      "image/png": "[encoded data removed]",
      "text/plain": [
       "<Figure size 432x288 with 1 Axes>"
      ]
     },
     "metadata": {},
     "output_type": "display_data"
    }
   ],
   "source": [
    "plt.figure(figsize=(15, 5))\n",
    "sns.distplot((y_train - y_train_pred))\n",
    "qqplot((y_train - y_train_pred), line='45', fit='True')\n",
    "plt.show()"
   ]
  },
  {
   "cell_type": "markdown",
   "metadata": {},
   "source": [
    "Residuals seems close to normality, which menas that a linear model is a good choice"
   ]
  },
  {
   "cell_type": "markdown",
   "metadata": {},
   "source": [
    "#### Multicollinearity "
   ]
  },
  {
   "cell_type": "code",
   "execution_count": 675,
   "metadata": {},
   "outputs": [],
   "source": [
    "def calculate_vif(df):\n",
    "    '''Calculates the variance inflation factor(VIF) and represent it as a data frame\n",
    "        \n",
    "    Args: \n",
    "        df: pandas data frame with the independant variables\n",
    "            \n",
    "    Returns:\n",
    "        data frame: variables as index with the VIF value as column\n",
    "    '''\n",
    "    return pd.DataFrame(\n",
    "        [variance_inflation_factor(df.values, i) for i in range(df.shape[1])],\n",
    "        index= df.columns,\n",
    "        columns=['VIF']\n",
    "    )"
   ]
  },
  {
   "cell_type": "code",
   "execution_count": 676,
   "metadata": {},
   "outputs": [
    {
     "data": {
      "text/html": [
       "<div>\n",
       "<style scoped>\n",
       "    .dataframe tbody tr th:only-of-type {\n",
       "        vertical-align: middle;\n",
       "    }\n",
       "\n",
       "    .dataframe tbody tr th {\n",
       "        vertical-align: top;\n",
       "    }\n",
       "\n",
       "    .dataframe thead th {\n",
       "        text-align: right;\n",
       "    }\n",
       "</style>\n",
       "<table border=\"1\" class=\"dataframe\">\n",
       "  <thead>\n",
       "    <tr style=\"text-align: right;\">\n",
       "      <th></th>\n",
       "      <th>VIF</th>\n",
       "    </tr>\n",
       "  </thead>\n",
       "  <tbody>\n",
       "    <tr>\n",
       "      <th>Tonelaje</th>\n",
       "      <td>51.741901</td>\n",
       "    </tr>\n",
       "    <tr>\n",
       "      <th>Pasajeros</th>\n",
       "      <td>104.083364</td>\n",
       "    </tr>\n",
       "    <tr>\n",
       "      <th>Longitud</th>\n",
       "      <td>14.729180</td>\n",
       "    </tr>\n",
       "    <tr>\n",
       "      <th>Camarotes</th>\n",
       "      <td>119.972761</td>\n",
       "    </tr>\n",
       "  </tbody>\n",
       "</table>\n",
       "</div>"
      ],
      "text/plain": [
       "                  VIF\n",
       "Tonelaje    51.741901\n",
       "Pasajeros  104.083364\n",
       "Longitud    14.729180\n",
       "Camarotes  119.972761"
      ]
     },
     "execution_count": 676,
     "metadata": {},
     "output_type": "execute_result"
    }
   ],
   "source": [
    "calculate_vif(ships_cleaned[sel_cols])"
   ]
  },
  {
   "cell_type": "markdown",
   "metadata": {},
   "source": [
    " All of the variables have a VIF value above 10 which means a high multicollinearity, this prevents the coeficients to have a meaningful value by their own but the model can still be a good predictor which is the main goal"
   ]
  },
  {
   "cell_type": "markdown",
   "metadata": {},
   "source": [
    "#### Residuals independance"
   ]
  },
  {
   "cell_type": "code",
   "execution_count": 677,
   "metadata": {},
   "outputs": [
    {
     "name": "stderr",
     "output_type": "stream",
     "text": [
      "C:\\ProgramData\\Anaconda3\\lib\\site-packages\\ipykernel_launcher.py:2: UserWarning: Matplotlib is currently using module://ipykernel.pylab.backend_inline, which is a non-GUI backend, so cannot show the figure.\n",
      "  \n"
     ]
    },
    {
     "data": {
      "image/png": "[encoded data removed]",
      "text/plain": [
       "<Figure size 432x288 with 1 Axes>"
      ]
     },
     "metadata": {},
     "output_type": "display_data"
    }
   ],
   "source": [
    "acf = smt.graphics.plot_acf(regr.resid)\n",
    "acf.show()"
   ]
  },
  {
   "cell_type": "markdown",
   "metadata": {},
   "source": [
    "None of the points are outside of critical area which means that no autocorrelation is present"
   ]
  },
  {
   "cell_type": "markdown",
   "metadata": {},
   "source": [
    "### Model evaluation"
   ]
  },
  {
   "cell_type": "code",
   "execution_count": 678,
   "metadata": {},
   "outputs": [],
   "source": [
    "def calculate_evaluation_metrics(y_values, predicted_values):\n",
    "    '''Calculates de R^2 and RSME for a set of predicted values\n",
    "    \n",
    "    Args: \n",
    "        y_values (pandas.Series or list): reference values\n",
    "        predicted_values: series or list of predicted values\n",
    "            \n",
    "    Returns:\n",
    "        result_dict (dict): \n",
    "            R^2: R^2 calculation\n",
    "            RMSE: RMSE calculation\n",
    "    '''\n",
    "    result_dict = {\n",
    "        'R^2': metrics.r2_score(y_values, predicted_values),\n",
    "        'RSME': np.sqrt(metrics.mean_squared_error(y_values, predicted_values ))\n",
    "    }\n",
    "    return result_dict\n",
    "\n",
    "def eval_metrics_to_frame(eval_dict, name, append_to_index=''):\n",
    "    '''Format the result of the evaluation metrics to pandas dataframe\n",
    "    \n",
    "    Args:\n",
    "        eval_dict (dict): dictionary with metrics as keys and magnitude as value\n",
    "            R^2: R^2 calculation\n",
    "            RMSE: RMSE calculation\n",
    "        name (str): expected column name.\n",
    "        append_to_index (str): string to append to matrics names.\n",
    "        \n",
    "    Returns:\n",
    "        (pandas.DataFrame): metrics name as index with one column that is\n",
    "            equeal to name input. \n",
    "            \n",
    "    '''\n",
    "    return (\n",
    "        pd.Series(eval_dict)\n",
    "        .rename(name)\n",
    "        .rename(lambda x: x + append_to_index)\n",
    "    ).to_frame()\n",
    "    "
   ]
  },
  {
   "cell_type": "code",
   "execution_count": 679,
   "metadata": {},
   "outputs": [
    {
     "data": {
      "text/html": [
       "<div>\n",
       "<style scoped>\n",
       "    .dataframe tbody tr th:only-of-type {\n",
       "        vertical-align: middle;\n",
       "    }\n",
       "\n",
       "    .dataframe tbody tr th {\n",
       "        vertical-align: top;\n",
       "    }\n",
       "\n",
       "    .dataframe thead th {\n",
       "        text-align: right;\n",
       "    }\n",
       "</style>\n",
       "<table border=\"1\" class=\"dataframe\">\n",
       "  <thead>\n",
       "    <tr style=\"text-align: right;\">\n",
       "      <th></th>\n",
       "      <th>Linear_Model</th>\n",
       "      <th>BaseLine</th>\n",
       "    </tr>\n",
       "  </thead>\n",
       "  <tbody>\n",
       "    <tr>\n",
       "      <th>R^2_Train</th>\n",
       "      <td>0.953714</td>\n",
       "      <td>-0.015960</td>\n",
       "    </tr>\n",
       "    <tr>\n",
       "      <th>RSME_Train</th>\n",
       "      <td>0.677624</td>\n",
       "      <td>3.174702</td>\n",
       "    </tr>\n",
       "    <tr>\n",
       "      <th>R^2_Test</th>\n",
       "      <td>0.918810</td>\n",
       "      <td>-0.032837</td>\n",
       "    </tr>\n",
       "    <tr>\n",
       "      <th>RSME_Test</th>\n",
       "      <td>0.923625</td>\n",
       "      <td>3.294282</td>\n",
       "    </tr>\n",
       "  </tbody>\n",
       "</table>\n",
       "</div>"
      ],
      "text/plain": [
       "            Linear_Model  BaseLine\n",
       "R^2_Train       0.953714 -0.015960\n",
       "RSME_Train      0.677624  3.174702\n",
       "R^2_Test        0.918810 -0.032837\n",
       "RSME_Test       0.923625  3.294282"
      ]
     },
     "execution_count": 679,
     "metadata": {},
     "output_type": "execute_result"
    }
   ],
   "source": [
    "lm_metrics_df = pd.concat([\n",
    "        eval_metrics_to_frame(\n",
    "            eval_dict=calculate_evaluation_metrics(y_train, y_train_pred),\n",
    "            name='Linear_Model',\n",
    "            append_to_index='_Train'),\n",
    "        eval_metrics_to_frame(\n",
    "            eval_dict=calculate_evaluation_metrics(y_test, y_test_pred),\n",
    "            name='Linear_Model',\n",
    "            append_to_index='_Test')])\n",
    "    \n",
    "bl_metrics_df = pd.concat([\n",
    "        eval_metrics_to_frame(\n",
    "            eval_dict=calculate_evaluation_metrics(\n",
    "                y_train, np.repeat(mean_crew_value, len(y_train))),\n",
    "            name='BaseLine',\n",
    "            append_to_index='_Train'),\n",
    "        eval_metrics_to_frame(\n",
    "            eval_dict=calculate_evaluation_metrics(\n",
    "                y_test, np.repeat(mean_crew_value, len(y_test))),\n",
    "            name='BaseLine',\n",
    "            append_to_index='_Test')])\n",
    "\n",
    "pd.concat([lm_metrics_df, bl_metrics_df], axis=1)"
   ]
  },
  {
   "cell_type": "markdown",
   "metadata": {},
   "source": [
    "The linear model performs significantly better in both training and test with a reduction in RSME of 79% in train and 72% in test"
   ]
  },
  {
   "cell_type": "markdown",
   "metadata": {},
   "source": [
    "#### Cross validation"
   ]
  },
  {
   "cell_type": "code",
   "execution_count": 680,
   "metadata": {},
   "outputs": [],
   "source": [
    "def cv_eval_metrics(X, y, model, n_splits=10, test_size=0.4, random_state=23):\n",
    "    n_samples = X.shape[0]\n",
    "    cv = ShuffleSplit(\n",
    "        n_splits=n_splits, test_size=test_size, random_state=random_state)\n",
    "    scores = cross_validate(\n",
    "        model, X, y, cv=cv,\n",
    "        scoring=['r2', 'neg_root_mean_squared_error'], return_train_score=True)\n",
    "\n",
    "    mean_results = lambda x: np.round(np.mean(x), 3)\n",
    "    sd_results = lambda x: np.round(np.std(x), 3)\n",
    "\n",
    "    res_df = pd.DataFrame(\n",
    "        {\n",
    "            'R^2_mean': [\n",
    "                mean_results(scores['train_r2']),\n",
    "                mean_results(scores['test_r2'])],\n",
    "            'R^2_Std':  [\n",
    "                sd_results(scores['train_r2']),\n",
    "                sd_results(scores['test_r2'])],\n",
    "            'RSME_mean': [\n",
    "                mean_results(scores['train_neg_root_mean_squared_error']*-1),\n",
    "                mean_results(scores['test_neg_root_mean_squared_error']*-1)],\n",
    "            'RSME_Std':[\n",
    "                sd_results(scores['train_neg_root_mean_squared_error']*-1),\n",
    "                sd_results(scores['test_neg_root_mean_squared_error']*-1)],\n",
    "        },\n",
    "        index=['Train', 'Test']\n",
    "    )\n",
    "    return res_df"
   ]
  },
  {
   "cell_type": "code",
   "execution_count": 681,
   "metadata": {},
   "outputs": [
    {
     "name": "stdout",
     "output_type": "stream",
     "text": [
      "Multiple Linear Regression Model\n"
     ]
    },
    {
     "data": {
      "text/html": [
       "<div>\n",
       "<style scoped>\n",
       "    .dataframe tbody tr th:only-of-type {\n",
       "        vertical-align: middle;\n",
       "    }\n",
       "\n",
       "    .dataframe tbody tr th {\n",
       "        vertical-align: top;\n",
       "    }\n",
       "\n",
       "    .dataframe thead th {\n",
       "        text-align: right;\n",
       "    }\n",
       "</style>\n",
       "<table border=\"1\" class=\"dataframe\">\n",
       "  <thead>\n",
       "    <tr style=\"text-align: right;\">\n",
       "      <th></th>\n",
       "      <th>R^2_mean</th>\n",
       "      <th>R^2_Std</th>\n",
       "      <th>RSME_mean</th>\n",
       "      <th>RSME_Std</th>\n",
       "    </tr>\n",
       "  </thead>\n",
       "  <tbody>\n",
       "    <tr>\n",
       "      <th>Train</th>\n",
       "      <td>0.944</td>\n",
       "      <td>0.012</td>\n",
       "      <td>0.748</td>\n",
       "      <td>0.089</td>\n",
       "    </tr>\n",
       "    <tr>\n",
       "      <th>Test</th>\n",
       "      <td>0.933</td>\n",
       "      <td>0.019</td>\n",
       "      <td>0.838</td>\n",
       "      <td>0.127</td>\n",
       "    </tr>\n",
       "  </tbody>\n",
       "</table>\n",
       "</div>"
      ],
      "text/plain": [
       "       R^2_mean  R^2_Std  RSME_mean  RSME_Std\n",
       "Train     0.944    0.012      0.748     0.089\n",
       "Test      0.933    0.019      0.838     0.127"
      ]
     },
     "execution_count": 681,
     "metadata": {},
     "output_type": "execute_result"
    }
   ],
   "source": [
    "lm = LinearRegression()\n",
    "lm_cv_metr = cv_eval_metrics(\n",
    "    X, y, lm, n_splits=10, test_size=0.4, random_state=0)\n",
    "print('Multiple Linear Regression Model')\n",
    "lm_cv_metr"
   ]
  },
  {
   "cell_type": "markdown",
   "metadata": {},
   "source": [
    "After 10 iterations of random samples the model peforms well on both training and test, the accuracy is a little bit lower in test but the standard deviation can be considered low in both"
   ]
  },
  {
   "cell_type": "markdown",
   "metadata": {},
   "source": [
    "## Simple Linear Model\n",
    "\n",
    "In case that interpretability of residuals is required, a simple linear model would be the best choice, given the high multicollinearity of the variables"
   ]
  },
  {
   "cell_type": "markdown",
   "metadata": {},
   "source": [
    "### Split data into training and test"
   ]
  },
  {
   "cell_type": "code",
   "execution_count": 682,
   "metadata": {
    "scrolled": true
   },
   "outputs": [
    {
     "data": {
      "text/html": [
       "<div>\n",
       "<style scoped>\n",
       "    .dataframe tbody tr th:only-of-type {\n",
       "        vertical-align: middle;\n",
       "    }\n",
       "\n",
       "    .dataframe tbody tr th {\n",
       "        vertical-align: top;\n",
       "    }\n",
       "\n",
       "    .dataframe thead th {\n",
       "        text-align: right;\n",
       "    }\n",
       "</style>\n",
       "<table border=\"1\" class=\"dataframe\">\n",
       "  <thead>\n",
       "    <tr style=\"text-align: right;\">\n",
       "      <th></th>\n",
       "      <th>Camarotes</th>\n",
       "    </tr>\n",
       "  </thead>\n",
       "  <tbody>\n",
       "    <tr>\n",
       "      <th>count</th>\n",
       "      <td>156.000000</td>\n",
       "    </tr>\n",
       "    <tr>\n",
       "      <th>mean</th>\n",
       "      <td>8.674744</td>\n",
       "    </tr>\n",
       "    <tr>\n",
       "      <th>std</th>\n",
       "      <td>4.226246</td>\n",
       "    </tr>\n",
       "    <tr>\n",
       "      <th>min</th>\n",
       "      <td>0.330000</td>\n",
       "    </tr>\n",
       "    <tr>\n",
       "      <th>25%</th>\n",
       "      <td>6.052500</td>\n",
       "    </tr>\n",
       "    <tr>\n",
       "      <th>50%</th>\n",
       "      <td>9.445000</td>\n",
       "    </tr>\n",
       "    <tr>\n",
       "      <th>75%</th>\n",
       "      <td>10.645000</td>\n",
       "    </tr>\n",
       "    <tr>\n",
       "      <th>max</th>\n",
       "      <td>18.170000</td>\n",
       "    </tr>\n",
       "  </tbody>\n",
       "</table>\n",
       "</div>"
      ],
      "text/plain": [
       "        Camarotes\n",
       "count  156.000000\n",
       "mean     8.674744\n",
       "std      4.226246\n",
       "min      0.330000\n",
       "25%      6.052500\n",
       "50%      9.445000\n",
       "75%     10.645000\n",
       "max     18.170000"
      ]
     },
     "metadata": {},
     "output_type": "display_data"
    },
    {
     "name": "stdout",
     "output_type": "stream",
     "text": [
      "Train_size:  93  Test_size: 63\n"
     ]
    }
   ],
   "source": [
    "sel_cols = ['Camarotes']\n",
    "scaler, X, y, X_train, X_test, y_train, y_test = scale_and_split_data(\n",
    "    ships_cleaned, sel_cols, scale_flag=False)\n",
    "display(X.describe())\n",
    "print('Train_size: ', X_train.shape[0], ' Test_size:', X_test.shape[0])"
   ]
  },
  {
   "cell_type": "markdown",
   "metadata": {},
   "source": [
    "The train set has 93 observations and the test set has 63. In addition, all the variables are now in a range between 0 and 1. "
   ]
  },
  {
   "cell_type": "markdown",
   "metadata": {},
   "source": [
    "### Summary"
   ]
  },
  {
   "cell_type": "code",
   "execution_count": 683,
   "metadata": {},
   "outputs": [
    {
     "data": {
      "text/html": [
       "<table class=\"simpletable\">\n",
       "<caption>OLS Regression Results</caption>\n",
       "<tr>\n",
       "  <th>Dep. Variable:</th>       <td>Tripulacion</td>   <th>  R-squared:         </th> <td>   0.924</td>\n",
       "</tr>\n",
       "<tr>\n",
       "  <th>Model:</th>                   <td>OLS</td>       <th>  Adj. R-squared:    </th> <td>   0.923</td>\n",
       "</tr>\n",
       "<tr>\n",
       "  <th>Method:</th>             <td>Least Squares</td>  <th>  F-statistic:       </th> <td>   1108.</td>\n",
       "</tr>\n",
       "<tr>\n",
       "  <th>Date:</th>             <td>Wed, 24 Jun 2020</td> <th>  Prob (F-statistic):</th> <td>9.80e-53</td>\n",
       "</tr>\n",
       "<tr>\n",
       "  <th>Time:</th>                 <td>14:51:43</td>     <th>  Log-Likelihood:    </th> <td> -118.77</td>\n",
       "</tr>\n",
       "<tr>\n",
       "  <th>No. Observations:</th>      <td>    93</td>      <th>  AIC:               </th> <td>   241.5</td>\n",
       "</tr>\n",
       "<tr>\n",
       "  <th>Df Residuals:</th>          <td>    91</td>      <th>  BIC:               </th> <td>   246.6</td>\n",
       "</tr>\n",
       "<tr>\n",
       "  <th>Df Model:</th>              <td>     1</td>      <th>                     </th>     <td> </td>   \n",
       "</tr>\n",
       "<tr>\n",
       "  <th>Covariance Type:</th>      <td>nonrobust</td>    <th>                     </th>     <td> </td>   \n",
       "</tr>\n",
       "</table>\n",
       "<table class=\"simpletable\">\n",
       "<tr>\n",
       "      <td></td>         <th>coef</th>     <th>std err</th>      <th>t</th>      <th>P>|t|</th>  <th>[0.025</th>    <th>0.975]</th>  \n",
       "</tr>\n",
       "<tr>\n",
       "  <th>const</th>     <td>    1.2749</td> <td>    0.201</td> <td>    6.344</td> <td> 0.000</td> <td>    0.876</td> <td>    1.674</td>\n",
       "</tr>\n",
       "<tr>\n",
       "  <th>Camarotes</th> <td>    0.7295</td> <td>    0.022</td> <td>   33.284</td> <td> 0.000</td> <td>    0.686</td> <td>    0.773</td>\n",
       "</tr>\n",
       "</table>\n",
       "<table class=\"simpletable\">\n",
       "<tr>\n",
       "  <th>Omnibus:</th>       <td> 7.170</td> <th>  Durbin-Watson:     </th> <td>   2.005</td>\n",
       "</tr>\n",
       "<tr>\n",
       "  <th>Prob(Omnibus):</th> <td> 0.028</td> <th>  Jarque-Bera (JB):  </th> <td>   6.606</td>\n",
       "</tr>\n",
       "<tr>\n",
       "  <th>Skew:</th>          <td> 0.589</td> <th>  Prob(JB):          </th> <td>  0.0368</td>\n",
       "</tr>\n",
       "<tr>\n",
       "  <th>Kurtosis:</th>      <td> 3.563</td> <th>  Cond. No.          </th> <td>    20.4</td>\n",
       "</tr>\n",
       "</table><br/><br/>Warnings:<br/>[1] Standard Errors assume that the covariance matrix of the errors is correctly specified."
      ],
      "text/plain": [
       "<class 'statsmodels.iolib.summary.Summary'>\n",
       "\"\"\"\n",
       "                            OLS Regression Results                            \n",
       "==============================================================================\n",
       "Dep. Variable:            Tripulacion   R-squared:                       0.924\n",
       "Model:                            OLS   Adj. R-squared:                  0.923\n",
       "Method:                 Least Squares   F-statistic:                     1108.\n",
       "Date:                Wed, 24 Jun 2020   Prob (F-statistic):           9.80e-53\n",
       "Time:                        14:51:43   Log-Likelihood:                -118.77\n",
       "No. Observations:                  93   AIC:                             241.5\n",
       "Df Residuals:                      91   BIC:                             246.6\n",
       "Df Model:                           1                                         \n",
       "Covariance Type:            nonrobust                                         \n",
       "==============================================================================\n",
       "                 coef    std err          t      P>|t|      [0.025      0.975]\n",
       "------------------------------------------------------------------------------\n",
       "const          1.2749      0.201      6.344      0.000       0.876       1.674\n",
       "Camarotes      0.7295      0.022     33.284      0.000       0.686       0.773\n",
       "==============================================================================\n",
       "Omnibus:                        7.170   Durbin-Watson:                   2.005\n",
       "Prob(Omnibus):                  0.028   Jarque-Bera (JB):                6.606\n",
       "Skew:                           0.589   Prob(JB):                       0.0368\n",
       "Kurtosis:                       3.563   Cond. No.                         20.4\n",
       "==============================================================================\n",
       "\n",
       "Warnings:\n",
       "[1] Standard Errors assume that the covariance matrix of the errors is correctly specified.\n",
       "\"\"\""
      ]
     },
     "execution_count": 683,
     "metadata": {},
     "output_type": "execute_result"
    }
   ],
   "source": [
    "s_regr = sm.OLS(y_train, sm.add_constant(X_train)).fit()\n",
    "s_regr.summary()"
   ]
  },
  {
   "cell_type": "markdown",
   "metadata": {},
   "source": [
    "The model summary shows that 0.924 of the variance of the data is reprsented by cabins and for each unit increase in cabins, crew will increse 0.729"
   ]
  },
  {
   "cell_type": "markdown",
   "metadata": {},
   "source": [
    "### Testing of assumptions"
   ]
  },
  {
   "cell_type": "code",
   "execution_count": 684,
   "metadata": {},
   "outputs": [],
   "source": [
    "y_train_pred = s_regr.predict(sm.add_constant(X_train))\n",
    "y_test_pred = s_regr.predict(sm.add_constant(X_test))"
   ]
  },
  {
   "cell_type": "markdown",
   "metadata": {},
   "source": [
    "#### Linearity of the model"
   ]
  },
  {
   "cell_type": "code",
   "execution_count": 685,
   "metadata": {},
   "outputs": [
    {
     "data": {
      "image/png": "[encoded data removed]",
      "text/plain": [
       "<Figure size 1080x360 with 2 Axes>"
      ]
     },
     "metadata": {},
     "output_type": "display_data"
    }
   ],
   "source": [
    "fig, ax = plt.subplots(1,2, figsize=(15, 5))\n",
    "\n",
    "sns.regplot(x=y_train_pred, y=y_train, ax=ax[0])\n",
    "ax[0].set_title('Observed vs. predicted values')\n",
    "ax[0].set(xlabel='Predicted', ylabel='Observed')\n",
    "\n",
    "sns.regplot(x=y_train_pred, y=s_regr.resid, ax=ax[1])\n",
    "ax[1].set_title('Residuals vs. predicted values')\n",
    "ax[1].set(xlabel='Predicted', ylabel='Residuals')\n",
    "\n",
    "plt.show()"
   ]
  },
  {
   "cell_type": "markdown",
   "metadata": {},
   "source": [
    "Both graphs shows constant variance and symmetrical distributed points which represent linear relationship among variables."
   ]
  },
  {
   "cell_type": "markdown",
   "metadata": {},
   "source": [
    "#### Mean of residuals equal to zero"
   ]
  },
  {
   "cell_type": "code",
   "execution_count": 686,
   "metadata": {},
   "outputs": [
    {
     "data": {
      "text/plain": [
       "2.750488009393936e-15"
      ]
     },
     "execution_count": 686,
     "metadata": {},
     "output_type": "execute_result"
    }
   ],
   "source": [
    "s_regr.resid.mean()"
   ]
  },
  {
   "cell_type": "markdown",
   "metadata": {},
   "source": [
    "The mean of the residuals is indeed very close to zero meaning that a linear regression is a good fit."
   ]
  },
  {
   "cell_type": "markdown",
   "metadata": {},
   "source": [
    "#### Multivariate normal"
   ]
  },
  {
   "cell_type": "code",
   "execution_count": 687,
   "metadata": {},
   "outputs": [
    {
     "data": {
      "image/png": "[encoded data removed]",
      "text/plain": [
       "<Figure size 1080x360 with 1 Axes>"
      ]
     },
     "metadata": {},
     "output_type": "display_data"
    },
    {
     "data": {
      "image/png": "[encoded data removed]",
      "text/plain": [
       "<Figure size 432x288 with 1 Axes>"
      ]
     },
     "metadata": {},
     "output_type": "display_data"
    }
   ],
   "source": [
    "plt.figure(figsize=(15, 5))\n",
    "sns.distplot((y_train - y_train_pred))\n",
    "qqplot((y_train - y_train_pred), line='45', fit='True')\n",
    "plt.show()"
   ]
  },
  {
   "cell_type": "markdown",
   "metadata": {},
   "source": [
    "Residuals seems close to normality, however in the right tail an outlier is identified."
   ]
  },
  {
   "cell_type": "markdown",
   "metadata": {},
   "source": [
    "#### Residuals independance"
   ]
  },
  {
   "cell_type": "code",
   "execution_count": 688,
   "metadata": {},
   "outputs": [
    {
     "name": "stderr",
     "output_type": "stream",
     "text": [
      "C:\\ProgramData\\Anaconda3\\lib\\site-packages\\ipykernel_launcher.py:2: UserWarning: Matplotlib is currently using module://ipykernel.pylab.backend_inline, which is a non-GUI backend, so cannot show the figure.\n",
      "  \n"
     ]
    },
    {
     "data": {
      "image/png": "[encoded data removed]",
      "text/plain": [
       "<Figure size 432x288 with 1 Axes>"
      ]
     },
     "metadata": {},
     "output_type": "display_data"
    }
   ],
   "source": [
    "acf = smt.graphics.plot_acf(s_regr.resid)\n",
    "acf.show()"
   ]
  },
  {
   "cell_type": "markdown",
   "metadata": {},
   "source": [
    "None of the points are outside of critical area which means that no autocorrelation is present"
   ]
  },
  {
   "cell_type": "markdown",
   "metadata": {},
   "source": [
    "### Model evaluation"
   ]
  },
  {
   "cell_type": "code",
   "execution_count": 689,
   "metadata": {},
   "outputs": [
    {
     "data": {
      "text/html": [
       "<div>\n",
       "<style scoped>\n",
       "    .dataframe tbody tr th:only-of-type {\n",
       "        vertical-align: middle;\n",
       "    }\n",
       "\n",
       "    .dataframe tbody tr th {\n",
       "        vertical-align: top;\n",
       "    }\n",
       "\n",
       "    .dataframe thead th {\n",
       "        text-align: right;\n",
       "    }\n",
       "</style>\n",
       "<table border=\"1\" class=\"dataframe\">\n",
       "  <thead>\n",
       "    <tr style=\"text-align: right;\">\n",
       "      <th></th>\n",
       "      <th>Linear_Model</th>\n",
       "      <th>Simple_Linear_Model</th>\n",
       "    </tr>\n",
       "  </thead>\n",
       "  <tbody>\n",
       "    <tr>\n",
       "      <th>R^2_Train</th>\n",
       "      <td>0.953714</td>\n",
       "      <td>0.924091</td>\n",
       "    </tr>\n",
       "    <tr>\n",
       "      <th>RSME_Train</th>\n",
       "      <td>0.677624</td>\n",
       "      <td>0.867781</td>\n",
       "    </tr>\n",
       "    <tr>\n",
       "      <th>R^2_Test</th>\n",
       "      <td>0.918810</td>\n",
       "      <td>0.897326</td>\n",
       "    </tr>\n",
       "    <tr>\n",
       "      <th>RSME_Test</th>\n",
       "      <td>0.923625</td>\n",
       "      <td>1.038664</td>\n",
       "    </tr>\n",
       "  </tbody>\n",
       "</table>\n",
       "</div>"
      ],
      "text/plain": [
       "            Linear_Model  Simple_Linear_Model\n",
       "R^2_Train       0.953714             0.924091\n",
       "RSME_Train      0.677624             0.867781\n",
       "R^2_Test        0.918810             0.897326\n",
       "RSME_Test       0.923625             1.038664"
      ]
     },
     "execution_count": 689,
     "metadata": {},
     "output_type": "execute_result"
    }
   ],
   "source": [
    "slm_metrics_df = pd.concat([\n",
    "        eval_metrics_to_frame(\n",
    "            eval_dict=calculate_evaluation_metrics(y_train, y_train_pred),\n",
    "            name='Simple_Linear_Model',\n",
    "            append_to_index='_Train'),\n",
    "        eval_metrics_to_frame(\n",
    "            eval_dict=calculate_evaluation_metrics(y_test, y_test_pred),\n",
    "            name='Simple_Linear_Model',\n",
    "            append_to_index='_Test')])\n",
    "\n",
    "pd.concat([lm_metrics_df, slm_metrics_df], axis=1)"
   ]
  },
  {
   "cell_type": "markdown",
   "metadata": {},
   "source": [
    "The multiple linear model is better than the simple linear model by 22% in train, and by 11% in test."
   ]
  },
  {
   "cell_type": "markdown",
   "metadata": {},
   "source": [
    "#### Cross validation"
   ]
  },
  {
   "cell_type": "code",
   "execution_count": 690,
   "metadata": {},
   "outputs": [
    {
     "name": "stdout",
     "output_type": "stream",
     "text": [
      "Multiple Linear Regression Model\n"
     ]
    },
    {
     "data": {
      "text/html": [
       "<div>\n",
       "<style scoped>\n",
       "    .dataframe tbody tr th:only-of-type {\n",
       "        vertical-align: middle;\n",
       "    }\n",
       "\n",
       "    .dataframe tbody tr th {\n",
       "        vertical-align: top;\n",
       "    }\n",
       "\n",
       "    .dataframe thead th {\n",
       "        text-align: right;\n",
       "    }\n",
       "</style>\n",
       "<table border=\"1\" class=\"dataframe\">\n",
       "  <thead>\n",
       "    <tr style=\"text-align: right;\">\n",
       "      <th></th>\n",
       "      <th>R^2_mean</th>\n",
       "      <th>R^2_Std</th>\n",
       "      <th>RSME_mean</th>\n",
       "      <th>RSME_Std</th>\n",
       "    </tr>\n",
       "  </thead>\n",
       "  <tbody>\n",
       "    <tr>\n",
       "      <th>Train</th>\n",
       "      <td>0.944</td>\n",
       "      <td>0.012</td>\n",
       "      <td>0.748</td>\n",
       "      <td>0.089</td>\n",
       "    </tr>\n",
       "    <tr>\n",
       "      <th>Test</th>\n",
       "      <td>0.933</td>\n",
       "      <td>0.019</td>\n",
       "      <td>0.838</td>\n",
       "      <td>0.127</td>\n",
       "    </tr>\n",
       "  </tbody>\n",
       "</table>\n",
       "</div>"
      ],
      "text/plain": [
       "       R^2_mean  R^2_Std  RSME_mean  RSME_Std\n",
       "Train     0.944    0.012      0.748     0.089\n",
       "Test      0.933    0.019      0.838     0.127"
      ]
     },
     "metadata": {},
     "output_type": "display_data"
    },
    {
     "name": "stdout",
     "output_type": "stream",
     "text": [
      "Simple Linear Regression Model\n"
     ]
    },
    {
     "data": {
      "text/html": [
       "<div>\n",
       "<style scoped>\n",
       "    .dataframe tbody tr th:only-of-type {\n",
       "        vertical-align: middle;\n",
       "    }\n",
       "\n",
       "    .dataframe tbody tr th {\n",
       "        vertical-align: top;\n",
       "    }\n",
       "\n",
       "    .dataframe thead th {\n",
       "        text-align: right;\n",
       "    }\n",
       "</style>\n",
       "<table border=\"1\" class=\"dataframe\">\n",
       "  <thead>\n",
       "    <tr style=\"text-align: right;\">\n",
       "      <th></th>\n",
       "      <th>R^2_mean</th>\n",
       "      <th>R^2_Std</th>\n",
       "      <th>RSME_mean</th>\n",
       "      <th>RSME_Std</th>\n",
       "    </tr>\n",
       "  </thead>\n",
       "  <tbody>\n",
       "    <tr>\n",
       "      <th>Train</th>\n",
       "      <td>0.917</td>\n",
       "      <td>0.013</td>\n",
       "      <td>0.915</td>\n",
       "      <td>0.08</td>\n",
       "    </tr>\n",
       "    <tr>\n",
       "      <th>Test</th>\n",
       "      <td>0.910</td>\n",
       "      <td>0.018</td>\n",
       "      <td>0.971</td>\n",
       "      <td>0.11</td>\n",
       "    </tr>\n",
       "  </tbody>\n",
       "</table>\n",
       "</div>"
      ],
      "text/plain": [
       "       R^2_mean  R^2_Std  RSME_mean  RSME_Std\n",
       "Train     0.917    0.013      0.915      0.08\n",
       "Test      0.910    0.018      0.971      0.11"
      ]
     },
     "metadata": {},
     "output_type": "display_data"
    }
   ],
   "source": [
    "s_lm = LinearRegression()\n",
    "s_lm_cv_metr = cv_eval_metrics(\n",
    "    X, y, s_lm, n_splits=10, test_size=0.4, random_state=0)\n",
    "print('Multiple Linear Regression Model')\n",
    "display(lm_cv_metr)\n",
    "print('Simple Linear Regression Model')\n",
    "display(s_lm_cv_metr)"
   ]
  },
  {
   "cell_type": "markdown",
   "metadata": {},
   "source": [
    "After 10 iterations of random samples, the multiple linear model performs better in terms of mean RSME in both train (18%) and test (14%). However, this difference is not significant given the standard deviation of the RSME.\n",
    "Taking this into account the simple linear regression model is a good choice with more interpretability than the multiple linear regression"
   ]
  },
  {
   "cell_type": "markdown",
   "metadata": {},
   "source": [
    "## PCA"
   ]
  },
  {
   "cell_type": "markdown",
   "metadata": {},
   "source": [
    "Given that variables are highly correlated a technique of dimensionality reduction can be applied, expecting to have a better performance in the model, taking into account that the model will not be interpretable in terms of the original variables"
   ]
  },
  {
   "cell_type": "code",
   "execution_count": 691,
   "metadata": {},
   "outputs": [
    {
     "data": {
      "image/png": "[encoded data removed]",
      "text/plain": [
       "<Figure size 432x288 with 1 Axes>"
      ]
     },
     "metadata": {},
     "output_type": "display_data"
    }
   ],
   "source": [
    "sel_cols = [\n",
    "    'Tonelaje',\n",
    "    'Pasajeros',\n",
    "    'Longitud',\n",
    "    'Camarotes',\n",
    "]\n",
    "scaler, X, y, X_train, X_test, y_train, y_test = scale_and_split_data(\n",
    "    ships_cleaned, sel_cols)\n",
    "\n",
    "pca = PCA().fit(X)\n",
    "\n",
    "fig, ax = plt.subplots()\n",
    "xi = np.arange(1, 5, step=1)\n",
    "variance_csum = np.cumsum(pca.explained_variance_ratio_)\n",
    "plt.plot(xi, variance_csum, marker='o', linestyle='--', color='green')\n",
    "plt.show()"
   ]
  },
  {
   "cell_type": "markdown",
   "metadata": {},
   "source": [
    "More than 99% of the variability can be represented with 3 components."
   ]
  },
  {
   "cell_type": "markdown",
   "metadata": {},
   "source": [
    "## Linear model with PCA"
   ]
  },
  {
   "cell_type": "code",
   "execution_count": 692,
   "metadata": {},
   "outputs": [],
   "source": [
    "# # PCA with one components (roughly 95% of variability)\n",
    "pca = PCA(n_components=1)\n",
    "pca.fit(X)\n",
    "X_pca = pca.transform(X)\n",
    "X_train_pca = pca.transform(X_train)\n",
    "X_test_pca = pca.transform(X_test)"
   ]
  },
  {
   "cell_type": "markdown",
   "metadata": {},
   "source": [
    "Only one component is selected given that the rest of the components resulted in not being significant for the linear model"
   ]
  },
  {
   "cell_type": "markdown",
   "metadata": {},
   "source": [
    "### Summary"
   ]
  },
  {
   "cell_type": "code",
   "execution_count": 693,
   "metadata": {},
   "outputs": [
    {
     "data": {
      "text/html": [
       "<table class=\"simpletable\">\n",
       "<caption>OLS Regression Results</caption>\n",
       "<tr>\n",
       "  <th>Dep. Variable:</th>       <td>Tripulacion</td>   <th>  R-squared:         </th> <td>   0.944</td>\n",
       "</tr>\n",
       "<tr>\n",
       "  <th>Model:</th>                   <td>OLS</td>       <th>  Adj. R-squared:    </th> <td>   0.943</td>\n",
       "</tr>\n",
       "<tr>\n",
       "  <th>Method:</th>             <td>Least Squares</td>  <th>  F-statistic:       </th> <td>   1524.</td>\n",
       "</tr>\n",
       "<tr>\n",
       "  <th>Date:</th>             <td>Wed, 24 Jun 2020</td> <th>  Prob (F-statistic):</th> <td>1.25e-58</td>\n",
       "</tr>\n",
       "<tr>\n",
       "  <th>Time:</th>                 <td>14:55:25</td>     <th>  Log-Likelihood:    </th> <td> -104.91</td>\n",
       "</tr>\n",
       "<tr>\n",
       "  <th>No. Observations:</th>      <td>    93</td>      <th>  AIC:               </th> <td>   213.8</td>\n",
       "</tr>\n",
       "<tr>\n",
       "  <th>Df Residuals:</th>          <td>    91</td>      <th>  BIC:               </th> <td>   218.9</td>\n",
       "</tr>\n",
       "<tr>\n",
       "  <th>Df Model:</th>              <td>     1</td>      <th>                     </th>     <td> </td>   \n",
       "</tr>\n",
       "<tr>\n",
       "  <th>Covariance Type:</th>      <td>nonrobust</td>    <th>                     </th>     <td> </td>   \n",
       "</tr>\n",
       "</table>\n",
       "<table class=\"simpletable\">\n",
       "<tr>\n",
       "    <td></td>       <th>coef</th>     <th>std err</th>      <th>t</th>      <th>P>|t|</th>  <th>[0.025</th>    <th>0.975]</th>  \n",
       "</tr>\n",
       "<tr>\n",
       "  <th>const</th> <td>    7.6196</td> <td>    0.079</td> <td>   96.481</td> <td> 0.000</td> <td>    7.463</td> <td>    7.776</td>\n",
       "</tr>\n",
       "<tr>\n",
       "  <th>x1</th>    <td>    7.2846</td> <td>    0.187</td> <td>   39.041</td> <td> 0.000</td> <td>    6.914</td> <td>    7.655</td>\n",
       "</tr>\n",
       "</table>\n",
       "<table class=\"simpletable\">\n",
       "<tr>\n",
       "  <th>Omnibus:</th>       <td> 1.156</td> <th>  Durbin-Watson:     </th> <td>   2.277</td>\n",
       "</tr>\n",
       "<tr>\n",
       "  <th>Prob(Omnibus):</th> <td> 0.561</td> <th>  Jarque-Bera (JB):  </th> <td>   0.671</td>\n",
       "</tr>\n",
       "<tr>\n",
       "  <th>Skew:</th>          <td>-0.164</td> <th>  Prob(JB):          </th> <td>   0.715</td>\n",
       "</tr>\n",
       "<tr>\n",
       "  <th>Kurtosis:</th>      <td> 3.257</td> <th>  Cond. No.          </th> <td>    2.39</td>\n",
       "</tr>\n",
       "</table><br/><br/>Warnings:<br/>[1] Standard Errors assume that the covariance matrix of the errors is correctly specified."
      ],
      "text/plain": [
       "<class 'statsmodels.iolib.summary.Summary'>\n",
       "\"\"\"\n",
       "                            OLS Regression Results                            \n",
       "==============================================================================\n",
       "Dep. Variable:            Tripulacion   R-squared:                       0.944\n",
       "Model:                            OLS   Adj. R-squared:                  0.943\n",
       "Method:                 Least Squares   F-statistic:                     1524.\n",
       "Date:                Wed, 24 Jun 2020   Prob (F-statistic):           1.25e-58\n",
       "Time:                        14:55:25   Log-Likelihood:                -104.91\n",
       "No. Observations:                  93   AIC:                             213.8\n",
       "Df Residuals:                      91   BIC:                             218.9\n",
       "Df Model:                           1                                         \n",
       "Covariance Type:            nonrobust                                         \n",
       "==============================================================================\n",
       "                 coef    std err          t      P>|t|      [0.025      0.975]\n",
       "------------------------------------------------------------------------------\n",
       "const          7.6196      0.079     96.481      0.000       7.463       7.776\n",
       "x1             7.2846      0.187     39.041      0.000       6.914       7.655\n",
       "==============================================================================\n",
       "Omnibus:                        1.156   Durbin-Watson:                   2.277\n",
       "Prob(Omnibus):                  0.561   Jarque-Bera (JB):                0.671\n",
       "Skew:                          -0.164   Prob(JB):                        0.715\n",
       "Kurtosis:                       3.257   Cond. No.                         2.39\n",
       "==============================================================================\n",
       "\n",
       "Warnings:\n",
       "[1] Standard Errors assume that the covariance matrix of the errors is correctly specified.\n",
       "\"\"\""
      ]
     },
     "execution_count": 693,
     "metadata": {},
     "output_type": "execute_result"
    }
   ],
   "source": [
    "s_regr_pca = sm.OLS(y_train, sm.add_constant(X_train_pca)).fit()\n",
    "s_regr_pca.summary()"
   ]
  },
  {
   "cell_type": "markdown",
   "metadata": {},
   "source": [
    "The model has a slightly higher R-squared than the simple linear model built with the variable cabins that was of 0.924"
   ]
  },
  {
   "cell_type": "markdown",
   "metadata": {},
   "source": [
    "### Testing of assumptions"
   ]
  },
  {
   "cell_type": "code",
   "execution_count": 694,
   "metadata": {},
   "outputs": [],
   "source": [
    "y_train_pred = s_regr_pca.predict(sm.add_constant(pca.transform(X_train)))\n",
    "y_test_pred = s_regr_pca.predict(sm.add_constant(pca.transform(X_test)))"
   ]
  },
  {
   "cell_type": "markdown",
   "metadata": {},
   "source": [
    "#### Linearity of the model"
   ]
  },
  {
   "cell_type": "code",
   "execution_count": 695,
   "metadata": {},
   "outputs": [
    {
     "data": {
      "image/png": "[encoded data removed]",
      "text/plain": [
       "<Figure size 1080x360 with 2 Axes>"
      ]
     },
     "metadata": {},
     "output_type": "display_data"
    }
   ],
   "source": [
    "fig, ax = plt.subplots(1,2, figsize=(15, 5))\n",
    "\n",
    "sns.regplot(x=y_train_pred, y=y_train, ax=ax[0])\n",
    "ax[0].set_title('Observed vs. predicted values')\n",
    "ax[0].set(xlabel='Predicted', ylabel='Observed')\n",
    "\n",
    "sns.regplot(x=y_train_pred, y=s_regr.resid, ax=ax[1])\n",
    "ax[1].set_title('Residuals vs. predicted values')\n",
    "ax[1].set(xlabel='Predicted', ylabel='Residuals')\n",
    "\n",
    "plt.show()"
   ]
  },
  {
   "cell_type": "markdown",
   "metadata": {},
   "source": [
    "As expected both graphs shows constant variance and symmetrical distributed points which represent linear relationship among variables."
   ]
  },
  {
   "cell_type": "markdown",
   "metadata": {},
   "source": [
    "#### Mean of residuals equal to zero"
   ]
  },
  {
   "cell_type": "code",
   "execution_count": 696,
   "metadata": {},
   "outputs": [
    {
     "data": {
      "text/plain": [
       "-3.2471038999789525e-16"
      ]
     },
     "execution_count": 696,
     "metadata": {},
     "output_type": "execute_result"
    }
   ],
   "source": [
    "s_regr_pca.resid.mean()"
   ]
  },
  {
   "cell_type": "markdown",
   "metadata": {},
   "source": [
    "The mean of the residuals is indeed very close to zero meaning that a linear regression is a good fit."
   ]
  },
  {
   "cell_type": "markdown",
   "metadata": {},
   "source": [
    "#### Multivariate normal"
   ]
  },
  {
   "cell_type": "code",
   "execution_count": 697,
   "metadata": {},
   "outputs": [
    {
     "data": {
      "image/png": "[encoded data removed]",
      "text/plain": [
       "<Figure size 1080x360 with 1 Axes>"
      ]
     },
     "metadata": {},
     "output_type": "display_data"
    },
    {
     "data": {
      "image/png": "[encoded data removed]",
      "text/plain": [
       "<Figure size 432x288 with 1 Axes>"
      ]
     },
     "metadata": {},
     "output_type": "display_data"
    }
   ],
   "source": [
    "plt.figure(figsize=(15, 5))\n",
    "sns.distplot((y_train - y_train_pred))\n",
    "qqplot((y_train - y_train_pred), line='45', fit='True')\n",
    "plt.show()"
   ]
  },
  {
   "cell_type": "markdown",
   "metadata": {},
   "source": [
    "Residuals seems close to normality, however in both tails outliers can be identified."
   ]
  },
  {
   "cell_type": "markdown",
   "metadata": {},
   "source": [
    "#### Residuals independance"
   ]
  },
  {
   "cell_type": "code",
   "execution_count": 698,
   "metadata": {},
   "outputs": [
    {
     "name": "stderr",
     "output_type": "stream",
     "text": [
      "C:\\ProgramData\\Anaconda3\\lib\\site-packages\\ipykernel_launcher.py:2: UserWarning: Matplotlib is currently using module://ipykernel.pylab.backend_inline, which is a non-GUI backend, so cannot show the figure.\n",
      "  \n"
     ]
    },
    {
     "data": {
      "image/png": "[encoded data removed]",
      "text/plain": [
       "<Figure size 432x288 with 1 Axes>"
      ]
     },
     "metadata": {},
     "output_type": "display_data"
    }
   ],
   "source": [
    "acf = smt.graphics.plot_acf(s_regr_pca.resid)\n",
    "acf.show()"
   ]
  },
  {
   "cell_type": "markdown",
   "metadata": {},
   "source": [
    "None of the points are outside of critical area which means that no autocorrelation is present"
   ]
  },
  {
   "cell_type": "markdown",
   "metadata": {},
   "source": [
    "### Model evaluation"
   ]
  },
  {
   "cell_type": "code",
   "execution_count": 699,
   "metadata": {},
   "outputs": [
    {
     "data": {
      "text/html": [
       "<div>\n",
       "<style scoped>\n",
       "    .dataframe tbody tr th:only-of-type {\n",
       "        vertical-align: middle;\n",
       "    }\n",
       "\n",
       "    .dataframe tbody tr th {\n",
       "        vertical-align: top;\n",
       "    }\n",
       "\n",
       "    .dataframe thead th {\n",
       "        text-align: right;\n",
       "    }\n",
       "</style>\n",
       "<table border=\"1\" class=\"dataframe\">\n",
       "  <thead>\n",
       "    <tr style=\"text-align: right;\">\n",
       "      <th></th>\n",
       "      <th>Linear_Model</th>\n",
       "      <th>LM_PCA</th>\n",
       "    </tr>\n",
       "  </thead>\n",
       "  <tbody>\n",
       "    <tr>\n",
       "      <th>R^2_Train</th>\n",
       "      <td>0.953714</td>\n",
       "      <td>0.943659</td>\n",
       "    </tr>\n",
       "    <tr>\n",
       "      <th>RSME_Train</th>\n",
       "      <td>0.677624</td>\n",
       "      <td>0.747613</td>\n",
       "    </tr>\n",
       "    <tr>\n",
       "      <th>R^2_Test</th>\n",
       "      <td>0.918810</td>\n",
       "      <td>0.881780</td>\n",
       "    </tr>\n",
       "    <tr>\n",
       "      <th>RSME_Test</th>\n",
       "      <td>0.923625</td>\n",
       "      <td>1.114527</td>\n",
       "    </tr>\n",
       "  </tbody>\n",
       "</table>\n",
       "</div>"
      ],
      "text/plain": [
       "            Linear_Model    LM_PCA\n",
       "R^2_Train       0.953714  0.943659\n",
       "RSME_Train      0.677624  0.747613\n",
       "R^2_Test        0.918810  0.881780\n",
       "RSME_Test       0.923625  1.114527"
      ]
     },
     "execution_count": 699,
     "metadata": {},
     "output_type": "execute_result"
    }
   ],
   "source": [
    "slm_pca_metrics_df = pd.concat([\n",
    "        eval_metrics_to_frame(\n",
    "            eval_dict=calculate_evaluation_metrics(y_train, y_train_pred),\n",
    "            name='LM_PCA',\n",
    "            append_to_index='_Train'),\n",
    "        eval_metrics_to_frame(\n",
    "            eval_dict=calculate_evaluation_metrics(y_test, y_test_pred),\n",
    "            name='LM_PCA',\n",
    "            append_to_index='_Test')])\n",
    "\n",
    "pd.concat([lm_metrics_df, slm_pca_metrics_df], axis=1)"
   ]
  },
  {
   "cell_type": "markdown",
   "metadata": {},
   "source": [
    "The model built with pca performs slightly worst in test than the multiple linear regression model given that the RSME is 0.23 higher"
   ]
  },
  {
   "cell_type": "markdown",
   "metadata": {},
   "source": [
    "#### Cross validation"
   ]
  },
  {
   "cell_type": "code",
   "execution_count": 700,
   "metadata": {},
   "outputs": [
    {
     "name": "stdout",
     "output_type": "stream",
     "text": [
      "Multiple Linear Regression Model\n"
     ]
    },
    {
     "data": {
      "text/html": [
       "<div>\n",
       "<style scoped>\n",
       "    .dataframe tbody tr th:only-of-type {\n",
       "        vertical-align: middle;\n",
       "    }\n",
       "\n",
       "    .dataframe tbody tr th {\n",
       "        vertical-align: top;\n",
       "    }\n",
       "\n",
       "    .dataframe thead th {\n",
       "        text-align: right;\n",
       "    }\n",
       "</style>\n",
       "<table border=\"1\" class=\"dataframe\">\n",
       "  <thead>\n",
       "    <tr style=\"text-align: right;\">\n",
       "      <th></th>\n",
       "      <th>R^2_mean</th>\n",
       "      <th>R^2_Std</th>\n",
       "      <th>RSME_mean</th>\n",
       "      <th>RSME_Std</th>\n",
       "    </tr>\n",
       "  </thead>\n",
       "  <tbody>\n",
       "    <tr>\n",
       "      <th>Train</th>\n",
       "      <td>0.944</td>\n",
       "      <td>0.012</td>\n",
       "      <td>0.748</td>\n",
       "      <td>0.089</td>\n",
       "    </tr>\n",
       "    <tr>\n",
       "      <th>Test</th>\n",
       "      <td>0.933</td>\n",
       "      <td>0.019</td>\n",
       "      <td>0.838</td>\n",
       "      <td>0.127</td>\n",
       "    </tr>\n",
       "  </tbody>\n",
       "</table>\n",
       "</div>"
      ],
      "text/plain": [
       "       R^2_mean  R^2_Std  RSME_mean  RSME_Std\n",
       "Train     0.944    0.012      0.748     0.089\n",
       "Test      0.933    0.019      0.838     0.127"
      ]
     },
     "metadata": {},
     "output_type": "display_data"
    },
    {
     "name": "stdout",
     "output_type": "stream",
     "text": [
      "Simple Linear Regression Model\n"
     ]
    },
    {
     "data": {
      "text/html": [
       "<div>\n",
       "<style scoped>\n",
       "    .dataframe tbody tr th:only-of-type {\n",
       "        vertical-align: middle;\n",
       "    }\n",
       "\n",
       "    .dataframe tbody tr th {\n",
       "        vertical-align: top;\n",
       "    }\n",
       "\n",
       "    .dataframe thead th {\n",
       "        text-align: right;\n",
       "    }\n",
       "</style>\n",
       "<table border=\"1\" class=\"dataframe\">\n",
       "  <thead>\n",
       "    <tr style=\"text-align: right;\">\n",
       "      <th></th>\n",
       "      <th>R^2_mean</th>\n",
       "      <th>R^2_Std</th>\n",
       "      <th>RSME_mean</th>\n",
       "      <th>RSME_Std</th>\n",
       "    </tr>\n",
       "  </thead>\n",
       "  <tbody>\n",
       "    <tr>\n",
       "      <th>Train</th>\n",
       "      <td>0.917</td>\n",
       "      <td>0.013</td>\n",
       "      <td>0.915</td>\n",
       "      <td>0.08</td>\n",
       "    </tr>\n",
       "    <tr>\n",
       "      <th>Test</th>\n",
       "      <td>0.910</td>\n",
       "      <td>0.018</td>\n",
       "      <td>0.971</td>\n",
       "      <td>0.11</td>\n",
       "    </tr>\n",
       "  </tbody>\n",
       "</table>\n",
       "</div>"
      ],
      "text/plain": [
       "       R^2_mean  R^2_Std  RSME_mean  RSME_Std\n",
       "Train     0.917    0.013      0.915      0.08\n",
       "Test      0.910    0.018      0.971      0.11"
      ]
     },
     "metadata": {},
     "output_type": "display_data"
    },
    {
     "name": "stdout",
     "output_type": "stream",
     "text": [
      "PCA Linear Regression Model\n"
     ]
    },
    {
     "data": {
      "text/html": [
       "<div>\n",
       "<style scoped>\n",
       "    .dataframe tbody tr th:only-of-type {\n",
       "        vertical-align: middle;\n",
       "    }\n",
       "\n",
       "    .dataframe tbody tr th {\n",
       "        vertical-align: top;\n",
       "    }\n",
       "\n",
       "    .dataframe thead th {\n",
       "        text-align: right;\n",
       "    }\n",
       "</style>\n",
       "<table border=\"1\" class=\"dataframe\">\n",
       "  <thead>\n",
       "    <tr style=\"text-align: right;\">\n",
       "      <th></th>\n",
       "      <th>R^2_mean</th>\n",
       "      <th>R^2_Std</th>\n",
       "      <th>RSME_mean</th>\n",
       "      <th>RSME_Std</th>\n",
       "    </tr>\n",
       "  </thead>\n",
       "  <tbody>\n",
       "    <tr>\n",
       "      <th>Train</th>\n",
       "      <td>0.918</td>\n",
       "      <td>0.014</td>\n",
       "      <td>0.912</td>\n",
       "      <td>0.089</td>\n",
       "    </tr>\n",
       "    <tr>\n",
       "      <th>Test</th>\n",
       "      <td>0.922</td>\n",
       "      <td>0.021</td>\n",
       "      <td>0.904</td>\n",
       "      <td>0.139</td>\n",
       "    </tr>\n",
       "  </tbody>\n",
       "</table>\n",
       "</div>"
      ],
      "text/plain": [
       "       R^2_mean  R^2_Std  RSME_mean  RSME_Std\n",
       "Train     0.918    0.014      0.912     0.089\n",
       "Test      0.922    0.021      0.904     0.139"
      ]
     },
     "metadata": {},
     "output_type": "display_data"
    }
   ],
   "source": [
    "pca_lm = LinearRegression()\n",
    "pca_lm_cv_metr = cv_eval_metrics(X_pca, y, pca_lm, n_splits=10, test_size=0.4, random_state=0)\n",
    "print('Multiple Linear Regression Model')\n",
    "display(lm_cv_metr)\n",
    "print('Simple Linear Regression Model')\n",
    "display(s_lm_cv_metr)\n",
    "print('PCA Linear Regression Model')\n",
    "display(pca_lm_cv_metr)"
   ]
  },
  {
   "cell_type": "markdown",
   "metadata": {},
   "source": [
    "There is not an important difference in the performance of the linear model using pca after cross validation"
   ]
  },
  {
   "cell_type": "markdown",
   "metadata": {},
   "source": [
    "## Random Forest"
   ]
  },
  {
   "cell_type": "markdown",
   "metadata": {},
   "source": [
    "### Building a Random Forest model with default values"
   ]
  },
  {
   "cell_type": "code",
   "execution_count": 701,
   "metadata": {},
   "outputs": [],
   "source": [
    "# PCA with three components (more than 99% of variability)\n",
    "pca = PCA(n_components=3)\n",
    "pca.fit(X)\n",
    "X_pca = pca.transform(X)\n",
    "X_train_pca = pca.transform(X_train)\n",
    "X_test_pca = pca.transform(X_test)"
   ]
  },
  {
   "cell_type": "code",
   "execution_count": 702,
   "metadata": {},
   "outputs": [
    {
     "data": {
      "text/html": [
       "<div>\n",
       "<style scoped>\n",
       "    .dataframe tbody tr th:only-of-type {\n",
       "        vertical-align: middle;\n",
       "    }\n",
       "\n",
       "    .dataframe tbody tr th {\n",
       "        vertical-align: top;\n",
       "    }\n",
       "\n",
       "    .dataframe thead th {\n",
       "        text-align: right;\n",
       "    }\n",
       "</style>\n",
       "<table border=\"1\" class=\"dataframe\">\n",
       "  <thead>\n",
       "    <tr style=\"text-align: right;\">\n",
       "      <th></th>\n",
       "      <th>RF_Model</th>\n",
       "    </tr>\n",
       "  </thead>\n",
       "  <tbody>\n",
       "    <tr>\n",
       "      <th>R^2_Train</th>\n",
       "      <td>0.993122</td>\n",
       "    </tr>\n",
       "    <tr>\n",
       "      <th>RSME_Train</th>\n",
       "      <td>0.261209</td>\n",
       "    </tr>\n",
       "    <tr>\n",
       "      <th>R^2_Test</th>\n",
       "      <td>0.884731</td>\n",
       "    </tr>\n",
       "    <tr>\n",
       "      <th>RSME_Test</th>\n",
       "      <td>1.100528</td>\n",
       "    </tr>\n",
       "  </tbody>\n",
       "</table>\n",
       "</div>"
      ],
      "text/plain": [
       "            RF_Model\n",
       "R^2_Train   0.993122\n",
       "RSME_Train  0.261209\n",
       "R^2_Test    0.884731\n",
       "RSME_Test   1.100528"
      ]
     },
     "execution_count": 702,
     "metadata": {},
     "output_type": "execute_result"
    }
   ],
   "source": [
    "# Creating a RandomForest model with default parameters to be used as baseline\n",
    "rf = RandomForestRegressor(random_state = 23)\n",
    "rf.fit(X_train_pca, y_train)\n",
    "pd.concat([\n",
    "eval_metrics_to_frame(\n",
    "            eval_dict=calculate_evaluation_metrics(\n",
    "                y_train, rf.predict(X_train_pca)),\n",
    "            name='RF_Model',\n",
    "            append_to_index='_Train'),\n",
    "eval_metrics_to_frame(\n",
    "            eval_dict=calculate_evaluation_metrics(\n",
    "                y_test, rf.predict(X_test_pca)),\n",
    "            name='RF_Model',\n",
    "            append_to_index='_Test')])"
   ]
  },
  {
   "cell_type": "markdown",
   "metadata": {},
   "source": [
    "The random forest model built using the default parameters performs very well in train. Nevertheless, results in test set are not as good"
   ]
  },
  {
   "cell_type": "code",
   "execution_count": 703,
   "metadata": {},
   "outputs": [
    {
     "name": "stdout",
     "output_type": "stream",
     "text": [
      "Multiple Linear Regression Model\n"
     ]
    },
    {
     "data": {
      "text/html": [
       "<div>\n",
       "<style scoped>\n",
       "    .dataframe tbody tr th:only-of-type {\n",
       "        vertical-align: middle;\n",
       "    }\n",
       "\n",
       "    .dataframe tbody tr th {\n",
       "        vertical-align: top;\n",
       "    }\n",
       "\n",
       "    .dataframe thead th {\n",
       "        text-align: right;\n",
       "    }\n",
       "</style>\n",
       "<table border=\"1\" class=\"dataframe\">\n",
       "  <thead>\n",
       "    <tr style=\"text-align: right;\">\n",
       "      <th></th>\n",
       "      <th>R^2_mean</th>\n",
       "      <th>R^2_Std</th>\n",
       "      <th>RSME_mean</th>\n",
       "      <th>RSME_Std</th>\n",
       "    </tr>\n",
       "  </thead>\n",
       "  <tbody>\n",
       "    <tr>\n",
       "      <th>Train</th>\n",
       "      <td>0.944</td>\n",
       "      <td>0.012</td>\n",
       "      <td>0.748</td>\n",
       "      <td>0.089</td>\n",
       "    </tr>\n",
       "    <tr>\n",
       "      <th>Test</th>\n",
       "      <td>0.933</td>\n",
       "      <td>0.019</td>\n",
       "      <td>0.838</td>\n",
       "      <td>0.127</td>\n",
       "    </tr>\n",
       "  </tbody>\n",
       "</table>\n",
       "</div>"
      ],
      "text/plain": [
       "       R^2_mean  R^2_Std  RSME_mean  RSME_Std\n",
       "Train     0.944    0.012      0.748     0.089\n",
       "Test      0.933    0.019      0.838     0.127"
      ]
     },
     "metadata": {},
     "output_type": "display_data"
    },
    {
     "name": "stdout",
     "output_type": "stream",
     "text": [
      "Simple Linear Regression Model\n"
     ]
    },
    {
     "data": {
      "text/html": [
       "<div>\n",
       "<style scoped>\n",
       "    .dataframe tbody tr th:only-of-type {\n",
       "        vertical-align: middle;\n",
       "    }\n",
       "\n",
       "    .dataframe tbody tr th {\n",
       "        vertical-align: top;\n",
       "    }\n",
       "\n",
       "    .dataframe thead th {\n",
       "        text-align: right;\n",
       "    }\n",
       "</style>\n",
       "<table border=\"1\" class=\"dataframe\">\n",
       "  <thead>\n",
       "    <tr style=\"text-align: right;\">\n",
       "      <th></th>\n",
       "      <th>R^2_mean</th>\n",
       "      <th>R^2_Std</th>\n",
       "      <th>RSME_mean</th>\n",
       "      <th>RSME_Std</th>\n",
       "    </tr>\n",
       "  </thead>\n",
       "  <tbody>\n",
       "    <tr>\n",
       "      <th>Train</th>\n",
       "      <td>0.917</td>\n",
       "      <td>0.013</td>\n",
       "      <td>0.915</td>\n",
       "      <td>0.08</td>\n",
       "    </tr>\n",
       "    <tr>\n",
       "      <th>Test</th>\n",
       "      <td>0.910</td>\n",
       "      <td>0.018</td>\n",
       "      <td>0.971</td>\n",
       "      <td>0.11</td>\n",
       "    </tr>\n",
       "  </tbody>\n",
       "</table>\n",
       "</div>"
      ],
      "text/plain": [
       "       R^2_mean  R^2_Std  RSME_mean  RSME_Std\n",
       "Train     0.917    0.013      0.915      0.08\n",
       "Test      0.910    0.018      0.971      0.11"
      ]
     },
     "metadata": {},
     "output_type": "display_data"
    },
    {
     "name": "stdout",
     "output_type": "stream",
     "text": [
      "PCA Linear Regression Model\n"
     ]
    },
    {
     "data": {
      "text/html": [
       "<div>\n",
       "<style scoped>\n",
       "    .dataframe tbody tr th:only-of-type {\n",
       "        vertical-align: middle;\n",
       "    }\n",
       "\n",
       "    .dataframe tbody tr th {\n",
       "        vertical-align: top;\n",
       "    }\n",
       "\n",
       "    .dataframe thead th {\n",
       "        text-align: right;\n",
       "    }\n",
       "</style>\n",
       "<table border=\"1\" class=\"dataframe\">\n",
       "  <thead>\n",
       "    <tr style=\"text-align: right;\">\n",
       "      <th></th>\n",
       "      <th>R^2_mean</th>\n",
       "      <th>R^2_Std</th>\n",
       "      <th>RSME_mean</th>\n",
       "      <th>RSME_Std</th>\n",
       "    </tr>\n",
       "  </thead>\n",
       "  <tbody>\n",
       "    <tr>\n",
       "      <th>Train</th>\n",
       "      <td>0.918</td>\n",
       "      <td>0.014</td>\n",
       "      <td>0.912</td>\n",
       "      <td>0.089</td>\n",
       "    </tr>\n",
       "    <tr>\n",
       "      <th>Test</th>\n",
       "      <td>0.922</td>\n",
       "      <td>0.021</td>\n",
       "      <td>0.904</td>\n",
       "      <td>0.139</td>\n",
       "    </tr>\n",
       "  </tbody>\n",
       "</table>\n",
       "</div>"
      ],
      "text/plain": [
       "       R^2_mean  R^2_Std  RSME_mean  RSME_Std\n",
       "Train     0.918    0.014      0.912     0.089\n",
       "Test      0.922    0.021      0.904     0.139"
      ]
     },
     "metadata": {},
     "output_type": "display_data"
    },
    {
     "name": "stdout",
     "output_type": "stream",
     "text": [
      "Default RF Model\n"
     ]
    },
    {
     "data": {
      "text/html": [
       "<div>\n",
       "<style scoped>\n",
       "    .dataframe tbody tr th:only-of-type {\n",
       "        vertical-align: middle;\n",
       "    }\n",
       "\n",
       "    .dataframe tbody tr th {\n",
       "        vertical-align: top;\n",
       "    }\n",
       "\n",
       "    .dataframe thead th {\n",
       "        text-align: right;\n",
       "    }\n",
       "</style>\n",
       "<table border=\"1\" class=\"dataframe\">\n",
       "  <thead>\n",
       "    <tr style=\"text-align: right;\">\n",
       "      <th></th>\n",
       "      <th>R^2_mean</th>\n",
       "      <th>R^2_Std</th>\n",
       "      <th>RSME_mean</th>\n",
       "      <th>RSME_Std</th>\n",
       "    </tr>\n",
       "  </thead>\n",
       "  <tbody>\n",
       "    <tr>\n",
       "      <th>Train</th>\n",
       "      <td>0.989</td>\n",
       "      <td>0.001</td>\n",
       "      <td>0.334</td>\n",
       "      <td>0.017</td>\n",
       "    </tr>\n",
       "    <tr>\n",
       "      <th>Test</th>\n",
       "      <td>0.940</td>\n",
       "      <td>0.011</td>\n",
       "      <td>0.795</td>\n",
       "      <td>0.079</td>\n",
       "    </tr>\n",
       "  </tbody>\n",
       "</table>\n",
       "</div>"
      ],
      "text/plain": [
       "       R^2_mean  R^2_Std  RSME_mean  RSME_Std\n",
       "Train     0.989    0.001      0.334     0.017\n",
       "Test      0.940    0.011      0.795     0.079"
      ]
     },
     "metadata": {},
     "output_type": "display_data"
    }
   ],
   "source": [
    "rf_cv_metr = cv_eval_metrics(X_pca, y, rf, n_splits=10, test_size=0.4, random_state=0)\n",
    "print('Multiple Linear Regression Model')\n",
    "display(lm_cv_metr)\n",
    "print('Simple Linear Regression Model')\n",
    "display(s_lm_cv_metr)\n",
    "print('PCA Linear Regression Model')\n",
    "display(pca_lm_cv_metr)\n",
    "print('Default RF Model')\n",
    "display(rf_cv_metr)"
   ]
  },
  {
   "cell_type": "markdown",
   "metadata": {},
   "source": [
    "The random forest model performs better in train and test than the previous models given that can be considered that the 5% improvement of RSME against the multiple regression model comes with a lower standard deviation too"
   ]
  },
  {
   "cell_type": "markdown",
   "metadata": {},
   "source": [
    "### Random forest hyperparameter tuning"
   ]
  },
  {
   "cell_type": "markdown",
   "metadata": {},
   "source": [
    "#### Random Search"
   ]
  },
  {
   "cell_type": "code",
   "execution_count": 593,
   "metadata": {},
   "outputs": [
    {
     "data": {
      "text/plain": [
       "{'n_estimators': [600, 866, 1133, 1400, 1666, 1933, 2200, 2466, 2733, 3000],\n",
       " 'max_features': ['auto', 'sqrt', 'log2'],\n",
       " 'max_depth': [10, 20, 30, 40, 50, 60, 70, 80, 90, 100, 110, None],\n",
       " 'min_samples_split': [1, 2, 4],\n",
       " 'min_samples_leaf': [1, 2, 4],\n",
       " 'bootstrap': [True, False]}"
      ]
     },
     "execution_count": 593,
     "metadata": {},
     "output_type": "execute_result"
    }
   ],
   "source": [
    "# Build the grid of parameters to be sampled \n",
    "# Number of trees in random forest\n",
    "n_estimators = [int(x) for x in np.linspace(start=600, stop=3000, num=10)]\n",
    "\n",
    "# Number of features to consider at every split\n",
    "max_features = ['auto', 'sqrt', 'log2']\n",
    "\n",
    "# Maximum number of levels in tree\n",
    "max_depth = [int(x) for x in np.linspace(10, 110, num = 11)]\n",
    "max_depth.append(None)\n",
    "\n",
    "# Minimum number of samples required to split a node\n",
    "min_samples_split = [1, 2, 4]\n",
    "\n",
    "# Minimum number of samples required at each leaf node\n",
    "min_samples_leaf = [1, 2, 4]\n",
    "\n",
    "# Method of selecting samples for training each tree\n",
    "bootstrap = [True, False]\n",
    "\n",
    "# Create the random grid\n",
    "random_grid = {\n",
    "    'n_estimators': n_estimators,\n",
    "    'max_features': max_features,\n",
    "    'max_depth': max_depth,\n",
    "    'min_samples_split': min_samples_split,\n",
    "    'min_samples_leaf': min_samples_leaf,\n",
    "    'bootstrap': bootstrap}\n",
    "random_grid"
   ]
  },
  {
   "cell_type": "markdown",
   "metadata": {},
   "source": [
    "In order to identify the best combinations of hyperparameters, a grid with a range of possible values is created"
   ]
  },
  {
   "cell_type": "code",
   "execution_count": 594,
   "metadata": {},
   "outputs": [
    {
     "name": "stdout",
     "output_type": "stream",
     "text": [
      "Fitting 3 folds for each of 100 candidates, totalling 300 fits\n"
     ]
    },
    {
     "name": "stderr",
     "output_type": "stream",
     "text": [
      "[Parallel(n_jobs=-1)]: Using backend LokyBackend with 4 concurrent workers.\n",
      "[Parallel(n_jobs=-1)]: Done  33 tasks      | elapsed:   23.3s\n",
      "[Parallel(n_jobs=-1)]: Done 154 tasks      | elapsed:  2.3min\n",
      "[Parallel(n_jobs=-1)]: Done 300 out of 300 | elapsed:  4.7min finished\n"
     ]
    },
    {
     "data": {
      "text/plain": [
       "{'n_estimators': 1666,\n",
       " 'min_samples_split': 4,\n",
       " 'min_samples_leaf': 2,\n",
       " 'max_features': 'auto',\n",
       " 'max_depth': 10,\n",
       " 'bootstrap': True}"
      ]
     },
     "execution_count": 594,
     "metadata": {},
     "output_type": "execute_result"
    }
   ],
   "source": [
    "# Use the random grid to search for best hyperparameters\n",
    "rf = RandomForestRegressor()\n",
    "# Random search of parameters, using 3 fold cross validation, \n",
    "# search across 100 different combinations\n",
    "rf_random = RandomizedSearchCV(\n",
    "    estimator=rf,\n",
    "    param_distributions=random_grid,\n",
    "    n_iter=100,\n",
    "    cv=3,\n",
    "    verbose=2,\n",
    "    random_state=23,\n",
    "    n_jobs=-1)\n",
    "\n",
    "rf_random.fit(X_train_pca, y_train)\n",
    "rf_random.best_params_"
   ]
  },
  {
   "cell_type": "markdown",
   "metadata": {},
   "source": [
    "The range of possibilities has been reduced to around 1666 estimators, the minimum number of samples required to split a node is around 4, the minimum number of samples required to be at a leaf node is around 2, the maximum depth of the tree is set near 10, and the bootstrap samples and the number of features to consider when looking for the best split are set to default"
   ]
  },
  {
   "cell_type": "code",
   "execution_count": 596,
   "metadata": {},
   "outputs": [
    {
     "name": "stdout",
     "output_type": "stream",
     "text": [
      "Multiple Linear Regression Model\n"
     ]
    },
    {
     "data": {
      "text/html": [
       "<div>\n",
       "<style scoped>\n",
       "    .dataframe tbody tr th:only-of-type {\n",
       "        vertical-align: middle;\n",
       "    }\n",
       "\n",
       "    .dataframe tbody tr th {\n",
       "        vertical-align: top;\n",
       "    }\n",
       "\n",
       "    .dataframe thead th {\n",
       "        text-align: right;\n",
       "    }\n",
       "</style>\n",
       "<table border=\"1\" class=\"dataframe\">\n",
       "  <thead>\n",
       "    <tr style=\"text-align: right;\">\n",
       "      <th></th>\n",
       "      <th>R^2_mean</th>\n",
       "      <th>R^2_Std</th>\n",
       "      <th>RSME_mean</th>\n",
       "      <th>RSME_Std</th>\n",
       "    </tr>\n",
       "  </thead>\n",
       "  <tbody>\n",
       "    <tr>\n",
       "      <th>Train</th>\n",
       "      <td>0.944</td>\n",
       "      <td>0.012</td>\n",
       "      <td>0.748</td>\n",
       "      <td>0.089</td>\n",
       "    </tr>\n",
       "    <tr>\n",
       "      <th>Test</th>\n",
       "      <td>0.933</td>\n",
       "      <td>0.019</td>\n",
       "      <td>0.838</td>\n",
       "      <td>0.127</td>\n",
       "    </tr>\n",
       "  </tbody>\n",
       "</table>\n",
       "</div>"
      ],
      "text/plain": [
       "       R^2_mean  R^2_Std  RSME_mean  RSME_Std\n",
       "Train     0.944    0.012      0.748     0.089\n",
       "Test      0.933    0.019      0.838     0.127"
      ]
     },
     "metadata": {},
     "output_type": "display_data"
    },
    {
     "name": "stdout",
     "output_type": "stream",
     "text": [
      "Simple Linear Regression Model\n"
     ]
    },
    {
     "data": {
      "text/html": [
       "<div>\n",
       "<style scoped>\n",
       "    .dataframe tbody tr th:only-of-type {\n",
       "        vertical-align: middle;\n",
       "    }\n",
       "\n",
       "    .dataframe tbody tr th {\n",
       "        vertical-align: top;\n",
       "    }\n",
       "\n",
       "    .dataframe thead th {\n",
       "        text-align: right;\n",
       "    }\n",
       "</style>\n",
       "<table border=\"1\" class=\"dataframe\">\n",
       "  <thead>\n",
       "    <tr style=\"text-align: right;\">\n",
       "      <th></th>\n",
       "      <th>R^2_mean</th>\n",
       "      <th>R^2_Std</th>\n",
       "      <th>RSME_mean</th>\n",
       "      <th>RSME_Std</th>\n",
       "    </tr>\n",
       "  </thead>\n",
       "  <tbody>\n",
       "    <tr>\n",
       "      <th>Train</th>\n",
       "      <td>0.917</td>\n",
       "      <td>0.013</td>\n",
       "      <td>0.915</td>\n",
       "      <td>0.08</td>\n",
       "    </tr>\n",
       "    <tr>\n",
       "      <th>Test</th>\n",
       "      <td>0.910</td>\n",
       "      <td>0.018</td>\n",
       "      <td>0.971</td>\n",
       "      <td>0.11</td>\n",
       "    </tr>\n",
       "  </tbody>\n",
       "</table>\n",
       "</div>"
      ],
      "text/plain": [
       "       R^2_mean  R^2_Std  RSME_mean  RSME_Std\n",
       "Train     0.917    0.013      0.915      0.08\n",
       "Test      0.910    0.018      0.971      0.11"
      ]
     },
     "metadata": {},
     "output_type": "display_data"
    },
    {
     "name": "stdout",
     "output_type": "stream",
     "text": [
      "PCA Linear Regression Model\n"
     ]
    },
    {
     "data": {
      "text/html": [
       "<div>\n",
       "<style scoped>\n",
       "    .dataframe tbody tr th:only-of-type {\n",
       "        vertical-align: middle;\n",
       "    }\n",
       "\n",
       "    .dataframe tbody tr th {\n",
       "        vertical-align: top;\n",
       "    }\n",
       "\n",
       "    .dataframe thead th {\n",
       "        text-align: right;\n",
       "    }\n",
       "</style>\n",
       "<table border=\"1\" class=\"dataframe\">\n",
       "  <thead>\n",
       "    <tr style=\"text-align: right;\">\n",
       "      <th></th>\n",
       "      <th>R^2_mean</th>\n",
       "      <th>R^2_Std</th>\n",
       "      <th>RSME_mean</th>\n",
       "      <th>RSME_Std</th>\n",
       "    </tr>\n",
       "  </thead>\n",
       "  <tbody>\n",
       "    <tr>\n",
       "      <th>Train</th>\n",
       "      <td>0.918</td>\n",
       "      <td>0.014</td>\n",
       "      <td>0.912</td>\n",
       "      <td>0.089</td>\n",
       "    </tr>\n",
       "    <tr>\n",
       "      <th>Test</th>\n",
       "      <td>0.922</td>\n",
       "      <td>0.021</td>\n",
       "      <td>0.904</td>\n",
       "      <td>0.139</td>\n",
       "    </tr>\n",
       "  </tbody>\n",
       "</table>\n",
       "</div>"
      ],
      "text/plain": [
       "       R^2_mean  R^2_Std  RSME_mean  RSME_Std\n",
       "Train     0.918    0.014      0.912     0.089\n",
       "Test      0.922    0.021      0.904     0.139"
      ]
     },
     "metadata": {},
     "output_type": "display_data"
    },
    {
     "name": "stdout",
     "output_type": "stream",
     "text": [
      "Default RF Model\n"
     ]
    },
    {
     "data": {
      "text/html": [
       "<div>\n",
       "<style scoped>\n",
       "    .dataframe tbody tr th:only-of-type {\n",
       "        vertical-align: middle;\n",
       "    }\n",
       "\n",
       "    .dataframe tbody tr th {\n",
       "        vertical-align: top;\n",
       "    }\n",
       "\n",
       "    .dataframe thead th {\n",
       "        text-align: right;\n",
       "    }\n",
       "</style>\n",
       "<table border=\"1\" class=\"dataframe\">\n",
       "  <thead>\n",
       "    <tr style=\"text-align: right;\">\n",
       "      <th></th>\n",
       "      <th>R^2_mean</th>\n",
       "      <th>R^2_Std</th>\n",
       "      <th>RSME_mean</th>\n",
       "      <th>RSME_Std</th>\n",
       "    </tr>\n",
       "  </thead>\n",
       "  <tbody>\n",
       "    <tr>\n",
       "      <th>Train</th>\n",
       "      <td>0.989</td>\n",
       "      <td>0.001</td>\n",
       "      <td>0.334</td>\n",
       "      <td>0.017</td>\n",
       "    </tr>\n",
       "    <tr>\n",
       "      <th>Test</th>\n",
       "      <td>0.940</td>\n",
       "      <td>0.011</td>\n",
       "      <td>0.795</td>\n",
       "      <td>0.079</td>\n",
       "    </tr>\n",
       "  </tbody>\n",
       "</table>\n",
       "</div>"
      ],
      "text/plain": [
       "       R^2_mean  R^2_Std  RSME_mean  RSME_Std\n",
       "Train     0.989    0.001      0.334     0.017\n",
       "Test      0.940    0.011      0.795     0.079"
      ]
     },
     "metadata": {},
     "output_type": "display_data"
    },
    {
     "name": "stdout",
     "output_type": "stream",
     "text": [
      "Best Rand RF Model\n"
     ]
    },
    {
     "data": {
      "text/html": [
       "<div>\n",
       "<style scoped>\n",
       "    .dataframe tbody tr th:only-of-type {\n",
       "        vertical-align: middle;\n",
       "    }\n",
       "\n",
       "    .dataframe tbody tr th {\n",
       "        vertical-align: top;\n",
       "    }\n",
       "\n",
       "    .dataframe thead th {\n",
       "        text-align: right;\n",
       "    }\n",
       "</style>\n",
       "<table border=\"1\" class=\"dataframe\">\n",
       "  <thead>\n",
       "    <tr style=\"text-align: right;\">\n",
       "      <th></th>\n",
       "      <th>R^2_mean</th>\n",
       "      <th>R^2_Std</th>\n",
       "      <th>RSME_mean</th>\n",
       "      <th>RSME_Std</th>\n",
       "    </tr>\n",
       "  </thead>\n",
       "  <tbody>\n",
       "    <tr>\n",
       "      <th>Train</th>\n",
       "      <td>0.979</td>\n",
       "      <td>0.002</td>\n",
       "      <td>0.456</td>\n",
       "      <td>0.023</td>\n",
       "    </tr>\n",
       "    <tr>\n",
       "      <th>Test</th>\n",
       "      <td>0.937</td>\n",
       "      <td>0.012</td>\n",
       "      <td>0.815</td>\n",
       "      <td>0.086</td>\n",
       "    </tr>\n",
       "  </tbody>\n",
       "</table>\n",
       "</div>"
      ],
      "text/plain": [
       "       R^2_mean  R^2_Std  RSME_mean  RSME_Std\n",
       "Train     0.979    0.002      0.456     0.023\n",
       "Test      0.937    0.012      0.815     0.086"
      ]
     },
     "metadata": {},
     "output_type": "display_data"
    }
   ],
   "source": [
    "rf_best_rand = rf_random.best_estimator_\n",
    "rf_best_rand_cv_metr = cv_eval_metrics(\n",
    "    X_pca, y, rf_best_rand, n_splits=10, test_size=0.4, random_state=0)\n",
    "print('Multiple Linear Regression Model')\n",
    "display(lm_cv_metr)\n",
    "print('Simple Linear Regression Model')\n",
    "display(s_lm_cv_metr)\n",
    "print('PCA Linear Regression Model')\n",
    "display(pca_lm_cv_metr)\n",
    "print('Default RF Model')\n",
    "display(rf_cv_metr)\n",
    "print('Best Rand RF Model')\n",
    "display(rf_best_rand_cv_metr)"
   ]
  },
  {
   "cell_type": "markdown",
   "metadata": {},
   "source": [
    "In general the behaviour of the model obtained by the randomized search has a lower performance than the default random forest model but only by 2%, this means that the performance of the model probably will not have an important impact with hyperparameter tuning."
   ]
  },
  {
   "cell_type": "markdown",
   "metadata": {},
   "source": [
    "#### Grid Search"
   ]
  },
  {
   "cell_type": "code",
   "execution_count": 704,
   "metadata": {},
   "outputs": [
    {
     "name": "stdout",
     "output_type": "stream",
     "text": [
      "Fitting 3 folds for each of 864 candidates, totalling 2592 fits\n"
     ]
    },
    {
     "name": "stderr",
     "output_type": "stream",
     "text": [
      "[Parallel(n_jobs=-1)]: Using backend LokyBackend with 4 concurrent workers.\n",
      "[Parallel(n_jobs=-1)]: Done  33 tasks      | elapsed:   37.3s\n",
      "[Parallel(n_jobs=-1)]: Done 154 tasks      | elapsed:  2.7min\n",
      "[Parallel(n_jobs=-1)]: Done 357 tasks      | elapsed:  4.9min\n",
      "[Parallel(n_jobs=-1)]: Done 640 tasks      | elapsed:  9.5min\n",
      "[Parallel(n_jobs=-1)]: Done 1005 tasks      | elapsed: 14.2min\n",
      "[Parallel(n_jobs=-1)]: Done 1450 tasks      | elapsed: 20.7min\n",
      "[Parallel(n_jobs=-1)]: Done 1977 tasks      | elapsed: 28.6min\n",
      "[Parallel(n_jobs=-1)]: Done 2584 tasks      | elapsed: 37.4min\n",
      "[Parallel(n_jobs=-1)]: Done 2592 out of 2592 | elapsed: 37.5min finished\n"
     ]
    },
    {
     "data": {
      "text/plain": [
       "{'bootstrap': True,\n",
       " 'max_depth': 10,\n",
       " 'max_features': 'auto',\n",
       " 'min_samples_leaf': 1,\n",
       " 'min_samples_split': 4,\n",
       " 'n_estimators': 1300}"
      ]
     },
     "execution_count": 704,
     "metadata": {},
     "output_type": "execute_result"
    }
   ],
   "source": [
    "# Creation of the parameter grid based on the results of random search \n",
    "param_grid = {\n",
    "    'bootstrap': [True],\n",
    "    'max_depth': [8, 9, 10, 11, 12, None],\n",
    "    'max_features': [2, 3, 4, 'auto'],\n",
    "    'min_samples_leaf': [1, 2, 3],\n",
    "    'min_samples_split': [2, 3, 4],\n",
    "    'n_estimators': [1100, 1200, 1300, 1400]\n",
    "}\n",
    "\n",
    "rf_tunning = RandomForestRegressor() \n",
    "grid_search = GridSearchCV(\n",
    "    estimator = rf_tunning, param_grid = param_grid, \n",
    "    cv = 3, n_jobs = -1, verbose = 2)\n",
    "\n",
    "grid_search.fit(X_train_pca, y_train)\n",
    "grid_search.best_params_"
   ]
  },
  {
   "cell_type": "code",
   "execution_count": 508,
   "metadata": {},
   "outputs": [
    {
     "data": {
      "text/plain": [
       "{'bootstrap': True,\n",
       " 'max_depth': 80,\n",
       " 'max_features': 3,\n",
       " 'min_samples_leaf': 1,\n",
       " 'min_samples_split': 4,\n",
       " 'n_estimators': 2700}"
      ]
     },
     "execution_count": 508,
     "metadata": {},
     "output_type": "execute_result"
    }
   ],
   "source": [
    "grid_search.best_params_"
   ]
  },
  {
   "cell_type": "code",
   "execution_count": 706,
   "metadata": {},
   "outputs": [
    {
     "name": "stdout",
     "output_type": "stream",
     "text": [
      "Multiple Linear Regression Model\n"
     ]
    },
    {
     "data": {
      "text/html": [
       "<div>\n",
       "<style scoped>\n",
       "    .dataframe tbody tr th:only-of-type {\n",
       "        vertical-align: middle;\n",
       "    }\n",
       "\n",
       "    .dataframe tbody tr th {\n",
       "        vertical-align: top;\n",
       "    }\n",
       "\n",
       "    .dataframe thead th {\n",
       "        text-align: right;\n",
       "    }\n",
       "</style>\n",
       "<table border=\"1\" class=\"dataframe\">\n",
       "  <thead>\n",
       "    <tr style=\"text-align: right;\">\n",
       "      <th></th>\n",
       "      <th>R^2_mean</th>\n",
       "      <th>R^2_Std</th>\n",
       "      <th>RSME_mean</th>\n",
       "      <th>RSME_Std</th>\n",
       "    </tr>\n",
       "  </thead>\n",
       "  <tbody>\n",
       "    <tr>\n",
       "      <th>Train</th>\n",
       "      <td>0.944</td>\n",
       "      <td>0.012</td>\n",
       "      <td>0.748</td>\n",
       "      <td>0.089</td>\n",
       "    </tr>\n",
       "    <tr>\n",
       "      <th>Test</th>\n",
       "      <td>0.933</td>\n",
       "      <td>0.019</td>\n",
       "      <td>0.838</td>\n",
       "      <td>0.127</td>\n",
       "    </tr>\n",
       "  </tbody>\n",
       "</table>\n",
       "</div>"
      ],
      "text/plain": [
       "       R^2_mean  R^2_Std  RSME_mean  RSME_Std\n",
       "Train     0.944    0.012      0.748     0.089\n",
       "Test      0.933    0.019      0.838     0.127"
      ]
     },
     "metadata": {},
     "output_type": "display_data"
    },
    {
     "name": "stdout",
     "output_type": "stream",
     "text": [
      "Simple Linear Regression Model\n"
     ]
    },
    {
     "data": {
      "text/html": [
       "<div>\n",
       "<style scoped>\n",
       "    .dataframe tbody tr th:only-of-type {\n",
       "        vertical-align: middle;\n",
       "    }\n",
       "\n",
       "    .dataframe tbody tr th {\n",
       "        vertical-align: top;\n",
       "    }\n",
       "\n",
       "    .dataframe thead th {\n",
       "        text-align: right;\n",
       "    }\n",
       "</style>\n",
       "<table border=\"1\" class=\"dataframe\">\n",
       "  <thead>\n",
       "    <tr style=\"text-align: right;\">\n",
       "      <th></th>\n",
       "      <th>R^2_mean</th>\n",
       "      <th>R^2_Std</th>\n",
       "      <th>RSME_mean</th>\n",
       "      <th>RSME_Std</th>\n",
       "    </tr>\n",
       "  </thead>\n",
       "  <tbody>\n",
       "    <tr>\n",
       "      <th>Train</th>\n",
       "      <td>0.917</td>\n",
       "      <td>0.013</td>\n",
       "      <td>0.915</td>\n",
       "      <td>0.08</td>\n",
       "    </tr>\n",
       "    <tr>\n",
       "      <th>Test</th>\n",
       "      <td>0.910</td>\n",
       "      <td>0.018</td>\n",
       "      <td>0.971</td>\n",
       "      <td>0.11</td>\n",
       "    </tr>\n",
       "  </tbody>\n",
       "</table>\n",
       "</div>"
      ],
      "text/plain": [
       "       R^2_mean  R^2_Std  RSME_mean  RSME_Std\n",
       "Train     0.917    0.013      0.915      0.08\n",
       "Test      0.910    0.018      0.971      0.11"
      ]
     },
     "metadata": {},
     "output_type": "display_data"
    },
    {
     "name": "stdout",
     "output_type": "stream",
     "text": [
      "PCA Linear Regression Model\n"
     ]
    },
    {
     "data": {
      "text/html": [
       "<div>\n",
       "<style scoped>\n",
       "    .dataframe tbody tr th:only-of-type {\n",
       "        vertical-align: middle;\n",
       "    }\n",
       "\n",
       "    .dataframe tbody tr th {\n",
       "        vertical-align: top;\n",
       "    }\n",
       "\n",
       "    .dataframe thead th {\n",
       "        text-align: right;\n",
       "    }\n",
       "</style>\n",
       "<table border=\"1\" class=\"dataframe\">\n",
       "  <thead>\n",
       "    <tr style=\"text-align: right;\">\n",
       "      <th></th>\n",
       "      <th>R^2_mean</th>\n",
       "      <th>R^2_Std</th>\n",
       "      <th>RSME_mean</th>\n",
       "      <th>RSME_Std</th>\n",
       "    </tr>\n",
       "  </thead>\n",
       "  <tbody>\n",
       "    <tr>\n",
       "      <th>Train</th>\n",
       "      <td>0.918</td>\n",
       "      <td>0.014</td>\n",
       "      <td>0.912</td>\n",
       "      <td>0.089</td>\n",
       "    </tr>\n",
       "    <tr>\n",
       "      <th>Test</th>\n",
       "      <td>0.922</td>\n",
       "      <td>0.021</td>\n",
       "      <td>0.904</td>\n",
       "      <td>0.139</td>\n",
       "    </tr>\n",
       "  </tbody>\n",
       "</table>\n",
       "</div>"
      ],
      "text/plain": [
       "       R^2_mean  R^2_Std  RSME_mean  RSME_Std\n",
       "Train     0.918    0.014      0.912     0.089\n",
       "Test      0.922    0.021      0.904     0.139"
      ]
     },
     "metadata": {},
     "output_type": "display_data"
    },
    {
     "name": "stdout",
     "output_type": "stream",
     "text": [
      "Default RF Model\n"
     ]
    },
    {
     "data": {
      "text/html": [
       "<div>\n",
       "<style scoped>\n",
       "    .dataframe tbody tr th:only-of-type {\n",
       "        vertical-align: middle;\n",
       "    }\n",
       "\n",
       "    .dataframe tbody tr th {\n",
       "        vertical-align: top;\n",
       "    }\n",
       "\n",
       "    .dataframe thead th {\n",
       "        text-align: right;\n",
       "    }\n",
       "</style>\n",
       "<table border=\"1\" class=\"dataframe\">\n",
       "  <thead>\n",
       "    <tr style=\"text-align: right;\">\n",
       "      <th></th>\n",
       "      <th>R^2_mean</th>\n",
       "      <th>R^2_Std</th>\n",
       "      <th>RSME_mean</th>\n",
       "      <th>RSME_Std</th>\n",
       "    </tr>\n",
       "  </thead>\n",
       "  <tbody>\n",
       "    <tr>\n",
       "      <th>Train</th>\n",
       "      <td>0.989</td>\n",
       "      <td>0.001</td>\n",
       "      <td>0.334</td>\n",
       "      <td>0.017</td>\n",
       "    </tr>\n",
       "    <tr>\n",
       "      <th>Test</th>\n",
       "      <td>0.940</td>\n",
       "      <td>0.011</td>\n",
       "      <td>0.795</td>\n",
       "      <td>0.079</td>\n",
       "    </tr>\n",
       "  </tbody>\n",
       "</table>\n",
       "</div>"
      ],
      "text/plain": [
       "       R^2_mean  R^2_Std  RSME_mean  RSME_Std\n",
       "Train     0.989    0.001      0.334     0.017\n",
       "Test      0.940    0.011      0.795     0.079"
      ]
     },
     "metadata": {},
     "output_type": "display_data"
    },
    {
     "name": "stdout",
     "output_type": "stream",
     "text": [
      "Best Rand RF Model\n"
     ]
    },
    {
     "data": {
      "text/html": [
       "<div>\n",
       "<style scoped>\n",
       "    .dataframe tbody tr th:only-of-type {\n",
       "        vertical-align: middle;\n",
       "    }\n",
       "\n",
       "    .dataframe tbody tr th {\n",
       "        vertical-align: top;\n",
       "    }\n",
       "\n",
       "    .dataframe thead th {\n",
       "        text-align: right;\n",
       "    }\n",
       "</style>\n",
       "<table border=\"1\" class=\"dataframe\">\n",
       "  <thead>\n",
       "    <tr style=\"text-align: right;\">\n",
       "      <th></th>\n",
       "      <th>R^2_mean</th>\n",
       "      <th>R^2_Std</th>\n",
       "      <th>RSME_mean</th>\n",
       "      <th>RSME_Std</th>\n",
       "    </tr>\n",
       "  </thead>\n",
       "  <tbody>\n",
       "    <tr>\n",
       "      <th>Train</th>\n",
       "      <td>0.979</td>\n",
       "      <td>0.002</td>\n",
       "      <td>0.456</td>\n",
       "      <td>0.023</td>\n",
       "    </tr>\n",
       "    <tr>\n",
       "      <th>Test</th>\n",
       "      <td>0.937</td>\n",
       "      <td>0.012</td>\n",
       "      <td>0.815</td>\n",
       "      <td>0.086</td>\n",
       "    </tr>\n",
       "  </tbody>\n",
       "</table>\n",
       "</div>"
      ],
      "text/plain": [
       "       R^2_mean  R^2_Std  RSME_mean  RSME_Std\n",
       "Train     0.979    0.002      0.456     0.023\n",
       "Test      0.937    0.012      0.815     0.086"
      ]
     },
     "metadata": {},
     "output_type": "display_data"
    },
    {
     "name": "stdout",
     "output_type": "stream",
     "text": [
      "Best Search RF Model\n"
     ]
    },
    {
     "data": {
      "text/html": [
       "<div>\n",
       "<style scoped>\n",
       "    .dataframe tbody tr th:only-of-type {\n",
       "        vertical-align: middle;\n",
       "    }\n",
       "\n",
       "    .dataframe tbody tr th {\n",
       "        vertical-align: top;\n",
       "    }\n",
       "\n",
       "    .dataframe thead th {\n",
       "        text-align: right;\n",
       "    }\n",
       "</style>\n",
       "<table border=\"1\" class=\"dataframe\">\n",
       "  <thead>\n",
       "    <tr style=\"text-align: right;\">\n",
       "      <th></th>\n",
       "      <th>R^2_mean</th>\n",
       "      <th>R^2_Std</th>\n",
       "      <th>RSME_mean</th>\n",
       "      <th>RSME_Std</th>\n",
       "    </tr>\n",
       "  </thead>\n",
       "  <tbody>\n",
       "    <tr>\n",
       "      <th>Train</th>\n",
       "      <td>0.986</td>\n",
       "      <td>0.002</td>\n",
       "      <td>0.373</td>\n",
       "      <td>0.023</td>\n",
       "    </tr>\n",
       "    <tr>\n",
       "      <th>Test</th>\n",
       "      <td>0.940</td>\n",
       "      <td>0.012</td>\n",
       "      <td>0.792</td>\n",
       "      <td>0.083</td>\n",
       "    </tr>\n",
       "  </tbody>\n",
       "</table>\n",
       "</div>"
      ],
      "text/plain": [
       "       R^2_mean  R^2_Std  RSME_mean  RSME_Std\n",
       "Train     0.986    0.002      0.373     0.023\n",
       "Test      0.940    0.012      0.792     0.083"
      ]
     },
     "metadata": {},
     "output_type": "display_data"
    }
   ],
   "source": [
    "rf_best_search = grid_search.best_estimator_\n",
    "rf_best_search_cv_metr = cv_eval_metrics(\n",
    "    X_pca, y, rf_best_search, n_splits=10, test_size=0.4, random_state=0)\n",
    "print('Multiple Linear Regression Model')\n",
    "display(lm_cv_metr)\n",
    "print('Simple Linear Regression Model')\n",
    "display(s_lm_cv_metr)\n",
    "print('PCA Linear Regression Model')\n",
    "display(pca_lm_cv_metr)\n",
    "print('Default RF Model')\n",
    "display(rf_cv_metr)\n",
    "print('Best Rand RF Model')\n",
    "display(rf_best_rand_cv_metr)\n",
    "print('Best Search RF Model')\n",
    "display(rf_best_search_cv_metr)"
   ]
  },
  {
   "cell_type": "markdown",
   "metadata": {},
   "source": [
    "After the process of tuning the random forest performs very similar to the default random forest model, it has a slight improvement in RSME but it is not meaningful"
   ]
  },
  {
   "cell_type": "markdown",
   "metadata": {},
   "source": [
    "## Conclusion"
   ]
  },
  {
   "cell_type": "markdown",
   "metadata": {},
   "source": [
    "The model with the lowest RSME and the highest $R^2$ is the one built using **Random Forest**, given that the main goal is to predict better the neccesary crew, this is the recommended model. However, if the interpretation of the variables is required, the best model is the **simple regression model**"
   ]
  },
  {
   "cell_type": "code",
   "execution_count": null,
   "metadata": {},
   "outputs": [],
   "source": []
  }
 ],
 "metadata": {
  "kernelspec": {
   "display_name": "Python 3",
   "language": "python",
   "name": "python3"
  },
  "language_info": {
   "codemirror_mode": {
    "name": "ipython",
    "version": 3
   },
   "file_extension": ".py",
   "mimetype": "text/x-python",
   "name": "python",
   "nbconvert_exporter": "python",
   "pygments_lexer": "ipython3",
   "version": "3.7.6"
  },
  "toc": {
   "base_numbering": 1,
   "nav_menu": {},
   "number_sections": true,
   "sideBar": true,
   "skip_h1_title": false,
   "title_cell": "Table of Contents",
   "title_sidebar": "Contents",
   "toc_cell": false,
   "toc_position": {
    "height": "calc(100% - 180px)",
    "left": "10px",
    "top": "150px",
    "width": "195.634px"
   },
   "toc_section_display": true,
   "toc_window_display": true
  }
 },
 "nbformat": 4,
 "nbformat_minor": 4
}
